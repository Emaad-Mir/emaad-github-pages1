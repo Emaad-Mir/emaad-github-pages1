{
 "cells": [
  {
   "cell_type": "markdown",
   "metadata": {},
   "source": [
    "---\n",
    "toc: true\n",
    "comments: true\n",
    "layout: post\n",
    "title: Methods and Control Structures Lesson Hacks\n",
    "description: Hacks for all five lessons finished\n",
    "type: tangibles\n",
    "courses: { csa: {week: 20} }\n",
    "---"
   ]
  },
  {
   "cell_type": "markdown",
   "metadata": {},
   "source": [
    "# Question 1: Primitive Types vs Reference Types (Unit 1)\n",
    "\n",
    "MCQ Question\n",
    "```java\n",
    "public class Person {\n",
    "    String name;\n",
    "    int age;\n",
    "    int height;\n",
    "    String job;\n",
    "\n",
    "    public Person(String name, int age, int height, String job) {\n",
    "        this.name = name;\n",
    "        this.age = age;\n",
    "        this.height = height;\n",
    "        this.job = job;\n",
    "    }\n",
    "}\n",
    "\n",
    "public static void main(String[] args) {\n",
    "    Person person1 = new Person(\"Carl\", 25, 165, \"Construction Worker\");\n",
    "    Person person2 = new Person(\"Adam\", 29, 160, \"Truck Driver\");\n",
    "    Person person3 = person1;\n",
    "    int number = 16;\n",
    "    System.out.println(number);\n",
    "}\n",
    "main(null);\n",
    "```\n",
    "\n",
    "Answer the following questions based on the code above:\n",
    "\n",
    "a. What kind of types are person1 and person2?\n",
    "Answer: **reference types**\n",
    "b. Do person1 and person3 point to the same value in memory?\n",
    "Answer: **yes**\n",
    "c. Is the integer “number” stored in the heap or in the stack?\n",
    "Answer: **stack**\n",
    "d. Is the value that “person1” points to stored in the heap or in the stack?\n",
    "Answer: **heap**\n",
    "\n",
    "Situation: You are developing a banking application where you need to represent customer information. You have decided to use both primitive types and reference types for this purpose.\n",
    "\n",
    "(a) Define primitive types and reference types in Java. Provide examples of each.\n",
    "\n",
    "Primitive types are a form of data types in Java that hold their values directly in memory, not a reference to the data. Example of primitive types include int, char, boolean, double, and long (not limited to this list). More specific examples could include ```int age = 16```, ```double salary = 5000.75```, and ```char whatever = S```\n",
    "\n",
    "Reference types, on the other hand, are form of data types in Java that, as the name suggests, stores a reference to the actual data and not the data itself. They allow us to be able to access objects stored elsewhere in memory. Examples of reference types in Java include class, Arrays, and String.\n",
    "\n",
    "(b) Explain the differences between primitive types and reference types in terms of memory allocation and usage in Java programs.\n",
    "\n",
    "Whereas primitive types store a reference to the data in memory, primitive types store the actual data held by the variable. While reference types have an unlimited number defined by the user, primitive types are limited in number and are predefined in the language. Whereas memory for primitive types is allocated temporarily on the stack, objects of reference type variables are stored on the heap. \n",
    "\n",
    "(c) Code:\n",
    "\n",
    "You have a method `calculateInterest` that takes a primitive `double` type representing the principal amount and a reference type `Customer` representing the customer information. Write  the method signature and the method implementation. Include comments to explain your code.\n",
    "\n",
    " "
   ]
  },
  {
   "cell_type": "code",
   "execution_count": 6,
   "metadata": {
    "vscode": {
     "languageId": "java"
    }
   },
   "outputs": [
    {
     "name": "stdout",
     "output_type": "stream",
     "text": [
      "Interest: $50.0\n"
     ]
    }
   ],
   "source": [
    "class Customer {\n",
    "    private String name; // reference type for the customer's name\n",
    "    private double interestRate; // primitive type used for the interest rate\n",
    "\n",
    "\n",
    "    // constructor with both a reference type (String) and primitive type (double) as parameters\n",
    "    public Customer(String name, double interestRate) {\n",
    "        this.name = name; // assigns reference type variable\n",
    "        this.interestRate = interestRate; // assigns primitive type variable\n",
    "    }\n",
    "\n",
    "    public double getInterestRate() {\n",
    "        return interestRate; // primitive type variable returned\n",
    "    }\n",
    "\n",
    "    public String getName() {\n",
    "        return name; // reference type variable returned\n",
    "    }\n",
    "}\n",
    "\n",
    "public class BankingApplication {\n",
    "\n",
    "    public double calculateInterest(double principal, Customer customer) {\n",
    "        // gets the interest rate from the Customer object\n",
    "        double interestRate = customer.getInterestRate();\n",
    "        \n",
    "        // Calculate the interest amount using the principal and the customer-specific interest rate\n",
    "        double interest = principal * interestRate; \n",
    "        \n",
    "        // Returns the calculated interest\n",
    "        return interest;\n",
    "    }\n",
    "\n",
    "    public static void main(String[] args) { // test case\n",
    "\n",
    "\n",
    "        Customer customer = new Customer(\"John Doe\", 0.05); // 5% interest rate\n",
    "        \n",
    "        // instance of the BankingApplication\n",
    "        BankingApplication app = new BankingApplication();\n",
    "        \n",
    "        // interest for a given principal amount\n",
    "        double principal = 1000; // Principal amount\n",
    "        double interest = app.calculateInterest(principal, customer);\n",
    "        \n",
    "        // Print the calculated interest\n",
    "        System.out.println(\"Interest: $\" + interest);\n",
    "    }\n",
    "\n",
    "}\n",
    "\n",
    "BankingApplication.main(null);"
   ]
  },
  {
   "cell_type": "markdown",
   "metadata": {},
   "source": [
    "# Question 2: Iteration over 2D arrays (Unit 4)\n",
    "\n",
    "Situation: You are developing a game where you need to track player scores on a 2D grid representing levels and attempts.\n",
    "\n",
    "(a) Explain the concept of iteration over a 2D array in Java. Provide an example scenario where iterating over a 2D array is useful in a programming task.\n",
    "\n",
    "Iteration over a 2D array in Java involves going through through the array row by row or column by column to access each element. Since a 2D array is an array of arrays, there are usually two nested loops: the outer loop iterates over the rows (or the first dimension), and the inner loop iterates over the columns (or the second dimension) of each row. \n",
    "\n",
    "One example where iterating over a 2D array is useful is in a game development setting, especially with grid-based games (ex. chess, tic-tac-toe, or minesweeper). Here, the rows and columns correspond to the board's grid, and each element stores information about that cell (like whether or not there is a mine in minesweeper or whether a cell is empty, contains an 'X', or an 'O' in tic-tac-toe). Iterating over a 2D array in games like these allows us to check the state of the game, update the board, or calculate scores based on the position of pieces or marks.\n",
    "\n",
    "\n",
    "(b) Code:\n",
    "\n",
    "You need to implement a method `calculateTotalScore` that takes a 2D array `scores` of integers representing player scores and returns the sum of all the elements in the array. Write the method signature and the method implementation. Include comments to explain your code.\n"
   ]
  },
  {
   "cell_type": "code",
   "execution_count": 4,
   "metadata": {
    "vscode": {
     "languageId": "java"
    }
   },
   "outputs": [
    {
     "name": "stdout",
     "output_type": "stream",
     "text": [
      "Total Score: 330\n"
     ]
    }
   ],
   "source": [
    "public class GameScores {\n",
    "\n",
    " \n",
    "    public static int calculateTotalScore(int[][] scores) {\n",
    "        int totalScore = 0; // Initialize total score to 0\n",
    "        \n",
    "        // Iterate over each row (each array of scores)\n",
    "        for (int i = 0; i < scores.length; i++) {\n",
    "            // Iterate over each score within the row\n",
    "            for (int j = 0; j < scores[i].length; j++) {\n",
    "                totalScore += scores[i][j]; // Add the score to the total\n",
    "            }\n",
    "        }\n",
    "        \n",
    "        return totalScore; // Return the total score\n",
    "    }\n",
    "\n",
    "    public static void main(String[] args) {\n",
    "        int[][] scores = {{80, 90}, {75, 85}};\n",
    "        int totalScore = calculateTotalScore(scores);\n",
    "        System.out.println(\"Total Score: \" + totalScore);\n",
    "    }\n",
    "}\n",
    "\n",
    "GameScores.main(null)"
   ]
  },
  {
   "cell_type": "markdown",
   "metadata": {},
   "source": [
    "# Note For Question 3\n",
    "\n",
    "The Google Doc and the blog with all the FRQs had different things for question 3. Whereas the Google Doc said to define an ArrayList and its significance with an ArrayList code segment, the blog said to do all of that but with an Array. Just to be safe, I answered question 3 for both Arrays and ArrayLists."
   ]
  },
  {
   "cell_type": "markdown",
   "metadata": {},
   "source": [
    "# Question 3: Array (Unit 6)\n",
    "\n",
    "Situation: You are developing a student management system where you need to store and analyze the grades of students in a class.\n",
    "\n",
    "(a) Define an array in Java. Explain its significance and usefulness in programming.\n",
    "\n",
    "An array in Java is a container object that holds a fixed (immutable) number of values of a single type. The length of an array is established when the array is created and cannot be changed once created (values cannot be added or removed to the array). Each item in an array is called an element, and each element is accessed by its numerical index. Arrays in Java are zero-based, meaning the first element's index is 0. Arrays are significant in that they provide a simple way to group and manage collections of similar data types, making updating and accessing data easy since their size is fixed. \n",
    "\n",
    "\n",
    "(b) Code:\n",
    "\n",
    "You need to implement a method `calculateAverageGrade` that takes an array `grades` of integers representing student grades and returns the average of all the elements in the array. Write the method signature and the method implementation. Include comments to explain your code.\n",
    "\n"
   ]
  },
  {
   "cell_type": "code",
   "execution_count": 15,
   "metadata": {
    "vscode": {
     "languageId": "java"
    }
   },
   "outputs": [
    {
     "name": "stdout",
     "output_type": "stream",
     "text": [
      "Average Grade (Array): 82.5\n"
     ]
    }
   ],
   "source": [
    "public class StudentManagementSystem { // array version\n",
    "\n",
    "    \n",
    "    public static double calculateAverageGrade(int[] grades) {\n",
    "        if (grades.length == 0) return 0.0; // Return 0 if the array is empty to avoid division by zero\n",
    "        \n",
    "        double sum = 0; // Initialize the sum of grades\n",
    "        // Iterate over each grade in the array\n",
    "        for (int grade : grades) {\n",
    "            sum += grade; // Add each grade to the sum\n",
    "        }\n",
    "        \n",
    "        // Calculate the average by dividing the sum by the number of grades\n",
    "        return sum / grades.length;\n",
    "    }\n",
    "\n",
    "    public static void main(String[] args) {\n",
    "        int[] gradesArray = {80, 90, 75, 85};\n",
    "        double averageArray = calculateAverageGrade(gradesArray);\n",
    "        System.out.println(\"Average Grade (Array): \" + averageArray);\n",
    "\n",
    "    }\n",
    "}\n",
    "\n",
    "StudentManagementSystem.main(null);"
   ]
  },
  {
   "cell_type": "markdown",
   "metadata": {},
   "source": [
    "# Question 3: ArrayList (Unit 6)\n",
    "\n",
    "Situation: You are developing a student management system where you need to store and analyze the grades of students in a class.\n",
    "\n",
    "(a) Define an arrayList in Java. Explain its significance and usefulness in programming.\n",
    "\n",
    "An ArrayList in Java is a part of the java.util package and is a mutable array implementation of the List interface. Unlike arrays (Arrays) that have a fixed length (immutable), ArrayLists can dynamically adjust their size to accommodate adding or removing elements. This makes ArrayList particularly useful for scenarios where the number of elements can change over time (ex. number of people in a school club)\n",
    "\n",
    "(b) Code:\n",
    "\n",
    "You need to implement a method `calculateAverageGrade` that takes an arrayList `grades` of integers representing student grades and returns the average of all the elements in the arrayList. Write the method signature and the method implementation. Include comments to explain your code."
   ]
  },
  {
   "cell_type": "code",
   "execution_count": 13,
   "metadata": {
    "vscode": {
     "languageId": "java"
    }
   },
   "outputs": [
    {
     "name": "stdout",
     "output_type": "stream",
     "text": [
      "Average Grade (ArrayList): 82.5\n"
     ]
    }
   ],
   "source": [
    "import java.util.ArrayList;\n",
    "\n",
    "public class StudentManagementSystem { // arraylist version\n",
    "\n",
    "    public static double calculateAverageGrade(ArrayList<Integer> grades) {\n",
    "        if (grades.isEmpty()) return 0.0; // Returns 0 if the list is empty\n",
    "        \n",
    "        double sum = 0; // Initialize sum of grades to 0\n",
    "        // Iterates over each grade in the ArrayList\n",
    "        for (int grade : grades) {\n",
    "            sum += grade; // Add each grade to the sum\n",
    "        }\n",
    "        \n",
    "        // Calculate average by dividing sum by the number of grades\n",
    "        return sum / grades.size();\n",
    "    }\n",
    "\n",
    "    public static void main(String[] args) {\n",
    "        ArrayList<Integer> gradesArrayList = new ArrayList<>();\n",
    "        gradesArrayList.add(80);\n",
    "        gradesArrayList.add(90);\n",
    "        gradesArrayList.add(75);\n",
    "        gradesArrayList.add(85);\n",
    "        double averageArrayList = calculateAverageGrade(gradesArrayList);\n",
    "        System.out.println(\"Average Grade (ArrayList): \" + averageArrayList);\n",
    "\n",
    "    }\n",
    "}\n",
    "\n",
    "StudentManagementSystem.main(null);"
   ]
  },
  {
   "cell_type": "markdown",
   "metadata": {},
   "source": [
    "# Question 4: Math Class (Unit 2)\n",
    "\n",
    "Situation: You are developing a scientific calculator application where users need to perform various mathematical operations.\n",
    "\n",
    "(a) Discuss the purpose and utility of the Math class in Java programming. Provide examples of at least three methods provided by the Math class and explain their usage.\n",
    "\n",
    "The Math class in Java is part of the java.lang package, which is automatically imported, hence you don’t need to manually import it. The Math class provides a collection of methods and constants for performing mathematical operations.T he methods of the Math class are static, meaning you can call them directly using the class name without needing to create an instance of the Math class.\n",
    "\n",
    "Commonly used math methods include..\n",
    "\n",
    "- Math.abs(double a): Returns the absolute value of a.\n",
    "- Math.sqrt(double a): Returns the square root of a.\n",
    "- Math.pow(double a, double b): Returns a raised to the power of b.\n",
    "- Math.max(double a, double b): Returns the greater of a and b.\n",
    "- Math.min(double a, double b): Returns the lesser of a and b.\n",
    "- Math.round(double a): Rounds a to the nearest integer.\n",
    "- Math.random(): Returns a double value greater than or equal to 0.0 and less than 1.0. (VERY IMPORTANT ONE TO KNOW FOR THE EXAM)\n",
    "\n",
    "\n",
    "(b) Code:\n",
    "\n",
    "You need to implement a method `calculateSquareRoot` that takes a `double` number as input and returns its square root using the Math class. Write the method signature and the method implementation. Include comments to explain your code.\n"
   ]
  },
  {
   "cell_type": "code",
   "execution_count": 19,
   "metadata": {
    "vscode": {
     "languageId": "java"
    }
   },
   "outputs": [
    {
     "name": "stdout",
     "output_type": "stream",
     "text": [
      "Square Root: 5.916079783099616\n"
     ]
    }
   ],
   "source": [
    "public class ScientificCalculator {\n",
    "\n",
    "    public static double calculateSquareRoot(double number) {\n",
    "        // Use Math.sqrt() method to calculate the square root of the double.\n",
    "        double result = Math.sqrt(number);\n",
    "        return result; // returns square root\n",
    "    }\n",
    "\n",
    "    public static void main(String[] args) {\n",
    "        double number = 35;\n",
    "        double squareRoot = calculateSquareRoot(number);\n",
    "        System.out.println(\"Square Root: \" + squareRoot);\n",
    "\n",
    "\n",
    "    }\n",
    "\n",
    "}\n",
    "\n",
    "ScientificCalculator.main(null);\n"
   ]
  },
  {
   "cell_type": "markdown",
   "metadata": {},
   "source": [
    "# Question 5: If, While, Else (Unit 3-4) \n",
    "\n",
    "\n",
    "Situation: You are developing a simple grading system where you need to determine if a given score is passing or failing.\n",
    "\n",
    "(a) Explain the roles and usage of the if statement, while loop, and else statement in Java programming. Provide examples illustrating each.\n",
    "\n",
    "The if statement in Java is used to execute a block of code based on a condition. If the condition is true, the block of code within the if statement is executed. Otherwise, it is skipped.\n",
    "\n",
    "Example:\n",
    "\n",
    "```java\n",
    "if (age >= 18) {\n",
    "    System.out.println(\"You are eligible to vote!\");\n",
    "}\n",
    "```\n",
    "\n",
    "The while loop in Java is used to repeatedly execute a block of code as long as a given condition is true. \n",
    "\n",
    "```java\n",
    "int i = 0;\n",
    "while (i < 5) {\n",
    "    System.out.println(i);\n",
    "    i++;\n",
    "}\n",
    "```\n",
    "\n",
    "The else statement in Java is used along with an if statement and executes a block of code when the if statement's condition is false. \n",
    "\n",
    "\n",
    "```java\n",
    "if (score >= 60) {\n",
    "    System.out.println(\"You passed.\");\n",
    "} else { // else statement\n",
    "    System.out.println(\"You failed.\");\n",
    "}\n",
    "```\n",
    "\n",
    "\n",
    "(b) Code:\n",
    "\n",
    "You need to implement a method `printGradeStatus` that takes an integer `score` as input and prints \"Pass\" if the score is greater than or equal to 60, and \"Fail\" otherwise. Write the method signature and the method implementation. Include comments to explain your code.\n"
   ]
  },
  {
   "cell_type": "code",
   "execution_count": 23,
   "metadata": {
    "vscode": {
     "languageId": "java"
    }
   },
   "outputs": [
    {
     "name": "stdout",
     "output_type": "stream",
     "text": [
      "You passed!\n",
      "You failed!\n"
     ]
    }
   ],
   "source": [
    "public class GradingSystem {\n",
    "\n",
    "    public static void printGradeStatus(int score) {\n",
    "        // if statement to check if the score is 60 or above\n",
    "        if (score >= 60) {\n",
    "            System.out.println(\"You passed!\"); // will print \"You passed!\" if the condition is true\n",
    "        } else {\n",
    "            System.out.println(\"You failed!\"); // will print \"You failed!\" if the condition is false\n",
    "        }\n",
    "    }\n",
    "\n",
    "    public static void main(String [] args){\n",
    "        int score1 = 78;\n",
    "        int score2 = 46;\n",
    "        printGradeStatus(score1);\n",
    "        printGradeStatus(score2);\n",
    "\n",
    "    }\n",
    "}\n",
    "\n",
    "GradingSystem.main(null);"
   ]
  }
 ],
 "metadata": {
  "kernelspec": {
   "display_name": "Java",
   "language": "java",
   "name": "java"
  },
  "language_info": {
   "codemirror_mode": "java",
   "file_extension": ".jshell",
   "mimetype": "text/x-java-source",
   "name": "Java",
   "pygments_lexer": "java",
   "version": "21+35-LTS-2513"
  }
 },
 "nbformat": 4,
 "nbformat_minor": 2
}
