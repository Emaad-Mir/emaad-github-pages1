{
 "cells": [
  {
   "cell_type": "markdown",
   "metadata": {},
   "source": [
    "---\n",
    "title: Primitive Types Hacks + More Java \n",
    "description: Here is my work for Week 4, which had us do more work with Java's data types!\n",
    "courses: { csa: {week: 4} }\n",
    "categories: [C3.0, C3.1, C4.1]\n",
    "type: tangibles\n",
    "---"
   ]
  },
  {
   "cell_type": "markdown",
   "metadata": {},
   "source": [
    "# Overview of this Blog\n",
    "\n",
    "To recap, this week we were introduced to some of Java's basic types, which can be broken down into primitive types (int, boolean, double, etc.) and non primitive types (strings). As someone who has had coding experience, especially in Java, for several years, none of the information presented was particularly new to me; however, I do think that it is important to make sure that I fully understand these types, as that will be one of the major parts of the exam in May, especially with the FRQs. \n",
    "\n",
    "While this blog does include the suggested hacks for this week, I decided to add in a couple more of my personal coding projects for fun, as I generally enjoy coding whenever I have free time. The first couple of cells are the suggested hacks, which are to make a class that demonstrates the use of the primitive and non primitive types in Java and to demonstrate inputs and outputs (multiple). In addition to those, I added a few cells that included my own Java projects, such as a reversed string algorithm and many others that you will see. \n",
    "\n",
    "I hope that if anybody happens to see this blog that it will serve as a useful study tool as we begin preparing and reviewing for the exam in May!"
   ]
  },
  {
   "cell_type": "markdown",
   "metadata": {},
   "source": [
    "# Primitive + Reference Types Demo"
   ]
  },
  {
   "cell_type": "code",
   "execution_count": 59,
   "metadata": {
    "vscode": {
     "languageId": "java"
    }
   },
   "outputs": [
    {
     "name": "stdout",
     "output_type": "stream",
     "text": [
      "Enter your full name: \n",
      "Enter your age: \n",
      "Can you drive? (y/n): \n",
      "What is your annual salary? \n",
      "Who is your pair in AP CSA?\n",
      "\n",
      "STATS\n",
      "Name: Emaad Mir\n",
      "Age: 16\n",
      "Can Drive: true\n",
      "Annual Salary: $268321.38\n",
      "Pair in AP CSA: Varalu N\n"
     ]
    }
   ],
   "source": [
    "import java.util.Scanner;\n",
    "\n",
    "public class Person {\n",
    "\n",
    "    private String name; // of course, a string would be best to use here because a string is a series of characters, which is what a name normally is\n",
    "    private String pair; // a string would best be used for describing someone's pair/partner for the same reason as above\n",
    "    private int age; // an integer would best be used here because age is typically expressed as a whole number rather than a decimal, hence we use an int instead of a float\n",
    "    private boolean canDrive; // a boolean is used here because someone can either drive (true) or they cannot (false)\n",
    "    private float salary; // We could use an integer here, but a salary may not always turn out to be a perfect round number. Floats allow decimals, hence why we are using one here\n",
    "\n",
    "    public void enterInfo(){\n",
    "\n",
    "\n",
    "        Scanner sc = new Scanner(System.in); // \n",
    "        System.out.println(\"Enter your full name: \");\n",
    "        name = sc.nextLine();\n",
    "\n",
    "\n",
    "        Scanner sc1 = new Scanner(System.in);\n",
    "        System.out.println(\"Enter your age: \");\n",
    "        age = sc1.nextInt();\n",
    "\n",
    "       \n",
    "        Scanner sc2 = new Scanner(System.in);\n",
    "        System.out.println(\"Can you drive? (y/n): \");\n",
    "        char driveResponse = sc2.nextLine().charAt(0);\n",
    "\n",
    "        if(driveResponse == 'y' || driveResponse == 'Y'){\n",
    "            canDrive = true;\n",
    "        } else {\n",
    "            canDrive = false;\n",
    "        }\n",
    "\n",
    "        Scanner sc3 = new Scanner(System.in);\n",
    "        System.out.println(\"What is your annual salary? \");\n",
    "        salary = sc3.nextFloat();\n",
    "\n",
    "        \n",
    "        Scanner sc4 = new Scanner(System.in);\n",
    "        System.out.println(\"Who is your pair in AP CSA?\\n\");\n",
    "        pair = sc4.nextLine();\n",
    "    }\n",
    "\n",
    "\n",
    "    public static void main(String [] args){\n",
    "\n",
    "        Person me = new Person();\n",
    "        me.enterInfo();\n",
    "\n",
    "\n",
    "        System.out.println(\"STATS\\nName: \"+me.name);\n",
    "        System.out.println(\"Age: \"+ me.age);\n",
    "        System.out.println(\"Can Drive: \"+me.canDrive);\n",
    "        System.out.println(\"Annual Salary: $\"+me.salary);\n",
    "        System.out.println(\"Pair in AP CSA: \"+me.pair);\n",
    "\n",
    "\n",
    "\n",
    "\n",
    "    }\n",
    "\n",
    "}\n",
    "\n",
    "Person.main(null)"
   ]
  },
  {
   "cell_type": "markdown",
   "metadata": {},
   "source": [
    "# Type Casting (Widening) Demo "
   ]
  },
  {
   "cell_type": "code",
   "execution_count": 60,
   "metadata": {
    "vscode": {
     "languageId": "java"
    }
   },
   "outputs": [
    {
     "name": "stdout",
     "output_type": "stream",
     "text": [
      "Integer (original): 19\n",
      "Integer to Long: 19\n",
      "Long to Float: 19.0\n",
      "Float to Double: 19.0\n"
     ]
    }
   ],
   "source": [
    "// Note: Widening goes in this order: byte -> short -> char -> int -> long -> float -> double\n",
    "\n",
    "\n",
    "public class Widening {\n",
    "    public static void main(String [] args){\n",
    "        int myLuckyInt = 19;\n",
    "        long myLuckyLong = myLuckyInt;\n",
    "        float myLuckyFloat = myLuckyLong;\n",
    "        double myLuckyDouble = myLuckyFloat;\n",
    "\n",
    "        System.out.println(\"Integer (original): \"+myLuckyInt);\n",
    "        System.out.println(\"Integer to Long: \" +myLuckyLong);\n",
    "        System.out.println(\"Long to Float: \"+myLuckyFloat);\n",
    "        System.out.println(\"Float to Double: \"+myLuckyDouble);\n",
    "    }\n",
    "}\n",
    "\n",
    "Widening.main(null);"
   ]
  },
  {
   "cell_type": "markdown",
   "metadata": {},
   "source": [
    "# Type Casting (Narrowing) Demo"
   ]
  },
  {
   "cell_type": "code",
   "execution_count": 61,
   "metadata": {
    "vscode": {
     "languageId": "java"
    }
   },
   "outputs": [
    {
     "name": "stdout",
     "output_type": "stream",
     "text": [
      "Double salary value: 213876.1592\n",
      "Double to float salary value: 213876.16\n",
      "Float to long salary value: 213876\n",
      "Long to short salary value: 17268\n",
      "Short to byte salary value: 116\n"
     ]
    }
   ],
   "source": [
    "// Note: Narrowing goes in this order: double -> float -> long -> int -> char -> short -> byte\n",
    "\n",
    "\n",
    "\n",
    "public class Narrowing {\n",
    "    public static void main(String [] args){\n",
    "        double myDoubleSalary = 213876.1592d;\n",
    "        float myFloatSalary = (float) myDoubleSalary;\n",
    "        long myLongSalary = (long) myFloatSalary;\n",
    "        short myShortSalary = (short) myLongSalary;\n",
    "        byte myByteSalary = (byte) myShortSalary;\n",
    "\n",
    "        System.out.println(\"Double salary value: \"+myDoubleSalary);\n",
    "        System.out.println(\"Double to float salary value: \"+myFloatSalary);\n",
    "        System.out.println(\"Float to long salary value: \"+myLongSalary);\n",
    "        System.out.println(\"Long to short salary value: \"+myShortSalary);\n",
    "        System.out.println(\"Short to byte salary value: \"+myByteSalary);\n",
    "\n",
    "    }\n",
    "}\n",
    "\n",
    "Narrowing.main(null);"
   ]
  },
  {
   "cell_type": "markdown",
   "metadata": {},
   "source": [
    "# Important Differences to Note about Widening and Narrowing Casting\n",
    "\n",
    "For both the widening and narrowing process, we convert one data type to another (as seen in both code cells). However, the one thing that separates the two is the fact that widening (going from a smaller type to a larger type size) can be done automatically while narrowing (going from a larger type to a smaller type size) has to be done manually.\n",
    "\n",
    "In other words, whenever we perform casting on a certain variable with a certain data type (ex. int), if we want to convert it to, say, a double, all we have to do is set the previously defined variable equivalent to a new declared variable that is now a double. This is shown in the first code cell, where I was able to convert myLuckyInt, which was set to 11 (integer), into a double called myLuckyDouble (11.0) without having to explicitly add (double) next to the myLuckyInt.\n",
    "\n",
    "On the other hand, in the second code cell where narrowing takes place, when I wanted to convert the double mySalary into an integer, I had to perform one more step. Like usual, I defined the double mySalary as a decimal (and added the d at the end to indicate that it is a double). Then, I made a new integer called myWholeSalary, but instead of just being able to convert mySalary into an integer automatically, I had to add (int) in front of mySalary to indicate that I am converting the value into an integer. As a result the double version of salary will print out 213876.15, while the integer version of salary will only print out 213876. \n",
    "\n"
   ]
  },
  {
   "cell_type": "markdown",
   "metadata": {},
   "source": [
    "# Compound Assignment Operator"
   ]
  },
  {
   "cell_type": "code",
   "execution_count": 7,
   "metadata": {
    "vscode": {
     "languageId": "java"
    }
   },
   "outputs": [
    {
     "name": "stdout",
     "output_type": "stream",
     "text": [
      "Enter your first number: \n"
     ]
    },
    {
     "name": "stdout",
     "output_type": "stream",
     "text": [
      "Enter your second number: \n",
      "Mathematical operations on the numbers 12 and 21:\n",
      "Sum: 33\n",
      "Difference: -9\n",
      "Product: 252\n",
      "Quotient: 0\n",
      "Remainder: 12\n"
     ]
    }
   ],
   "source": [
    "import java.util.Scanner;\n",
    "\n",
    "public class ChooseAssignmentOperator{\n",
    "\n",
    "    static int add(int x, int y){\n",
    "        return x+=y; //  adds the two numbers together, returns sum\n",
    "    }\n",
    "\n",
    "    static int sub(int x, int y){\n",
    "        return x-=y;  //  subtracts the two numbers, returns difference\n",
    "    }\n",
    "\n",
    "    static int multi(int x, int y){\n",
    "        return x*=y;  //  multiplies the two numbers together, returns product\n",
    "    }\n",
    "\n",
    "    static int div(int x, int y){\n",
    "        if(y == 0){\n",
    "            System.out.println(\"Undefined. You cannot divide by 0!\"); // if the user's second number is 0, the quotient will just be set to -1, as you can't divide by 0\n",
    "            return -1;\n",
    "        }\n",
    "\n",
    "        return x/=y; // divides two numbers, returns quotient\n",
    "    }\n",
    "\n",
    "    static int mod(int x, int y){\n",
    "        if(y == 0){\n",
    "            System.out.println(\"Undefined. You cannot calculate modulus with 0!\"); // if the user's second number is 0, the remainder will just be set to -1, since you can't find the remainder with 0\n",
    "            return -1;\n",
    "        }\n",
    "\n",
    "        return x%=y; // finds the remainder from dividing two numbers\n",
    "    }\n",
    "\n",
    "\n",
    "    public static void main(String [] args){\n",
    "        Scanner scanner = new Scanner(System.in);\n",
    "        System.out.println(\"Enter your first number: \");\n",
    "        int num1 = scanner.nextInt();\n",
    "\n",
    "        System.out.println(\"Enter your second number: \");\n",
    "        int num2 = scanner.nextInt();\n",
    "\n",
    "\n",
    "        System.out.printf(\"Mathematical operations on the numbers %d and %d:\\n\", num1, num2);\n",
    "\n",
    "\n",
    "        System.out.println(\"Sum: \"+add(num1, num2));\n",
    "        System.out.println(\"Difference: \"+sub(num1, num2));\n",
    "        System.out.println(\"Product: \"+multi(num1, num2));\n",
    "        System.out.println(\"Quotient: \"+div(num1, num2));\n",
    "        System.out.println(\"Remainder: \"+mod(num1, num2));\n",
    "\n",
    "\n",
    "        }\n",
    "\n",
    "        \n",
    "    }\n",
    "\n",
    "\n",
    "ChooseAssignmentOperator.main(null);"
   ]
  },
  {
   "cell_type": "markdown",
   "metadata": {},
   "source": [
    "# Extra Java Programs"
   ]
  },
  {
   "cell_type": "markdown",
   "metadata": {},
   "source": [
    "## Weather Converter + Above/Below Freezing or Boiling Point of Water"
   ]
  },
  {
   "cell_type": "code",
   "execution_count": 42,
   "metadata": {
    "vscode": {
     "languageId": "java"
    }
   },
   "outputs": [
    {
     "name": "stdout",
     "output_type": "stream",
     "text": [
      "Enter a temperature in degrees Fahrenheit that you would like to convert into degrees Celsius and degrees Kelvin: \n",
      "above the freezing point of water\n",
      "below the boiling point of water\n",
      "129.000000 DEGREES FAHRENHEIT CONVERSIONS:\n",
      "Celsius: 53.888889 degrees Celsius\n",
      "Kelvin: 327.038889 degrees Kelvin\n",
      "Your temperature is above the freezing point of water.\n",
      "Your temperature is below the boiling point of water.\n"
     ]
    }
   ],
   "source": [
    "// formula to convert from fahrenheit to celsius is (F-32)*(5/9)\n",
    "// formula to convert from celsius to fahrenheit is (C*(9/5)) + 32\n",
    "\n",
    "import java.util.Scanner;\n",
    "\n",
    "public class WeatherConverter {\n",
    "    \n",
    "    private static boolean isBelowFreezing;\n",
    "    private static boolean isAboveBoiling;\n",
    "\n",
    "     static double toCelsius(double f){\n",
    "        return (f-32)*(5.0/9);\n",
    "    }\n",
    "\n",
    "     static double toKelvin(double f){\n",
    "        return (f-32)*(5.0/9) + 273.15;\n",
    "    }\n",
    "\n",
    "     static boolean checkFreezing(double f){\n",
    "        if(f < 32){\n",
    "            isBelowFreezing = true;\n",
    "            System.out.println(\"below the freezing point of water\");\n",
    "        } else{\n",
    "            System.out.println(\"above the freezing point of water\");\n",
    "        }\n",
    "        return isBelowFreezing;\n",
    "        \n",
    "\n",
    "        }\n",
    "\n",
    "     static boolean checkBoiling(double f){\n",
    "        if(f > 212){\n",
    "            isAboveBoiling = true;\n",
    "            System.out.println(\"above the boiling point of water\");\n",
    "        } else {\n",
    "            System.out.println(\"below the boiling point of water\");\n",
    "        }\n",
    "        return isAboveBoiling;\n",
    "     }\n",
    "\n",
    "    public static void main(String [] args){\n",
    "\n",
    "        Scanner sc = new Scanner(System.in);\n",
    "        System.out.println(\"Enter a temperature in degrees Fahrenheit that you would like to convert into degrees Celsius and degrees Kelvin: \");\n",
    "\n",
    "        double temp = sc.nextDouble();\n",
    "\n",
    "      \n",
    "        double celsiusResult = WeatherConverter.toCelsius(temp);\n",
    "        double kelvinResult = WeatherConverter.toKelvin(temp);\n",
    "        boolean scale = WeatherConverter.checkFreezing(temp);\n",
    "        boolean scale1 = WeatherConverter.checkBoiling(temp);\n",
    "\n",
    "        System.out.printf(\"%f DEGREES FAHRENHEIT CONVERSIONS:\\n\", temp);\n",
    "        System.out.printf(\"Celsius: %f degrees Celsius\\n\",celsiusResult);\n",
    "        System.out.printf(\"Kelvin: %f degrees Kelvin\\n\",kelvinResult);\n",
    "        System.out.printf(\"Your temperature is %s the freezing point of water.\\n\", (scale ? \"below\" : \"above\"));\n",
    "        System.out.printf(\"Your temperature is %s the boiling point of water.\\n\", (scale1 ? \"above\" : \"below\"));\n",
    "\n",
    "\n",
    "\n",
    "\n",
    "    }\n",
    "\n",
    "\n",
    "}\n",
    "\n",
    "WeatherConverter.main(null);"
   ]
  },
  {
   "cell_type": "markdown",
   "metadata": {},
   "source": [
    "## CRUD Operations"
   ]
  },
  {
   "cell_type": "code",
   "execution_count": 58,
   "metadata": {
    "vscode": {
     "languageId": "java"
    }
   },
   "outputs": [
    {
     "name": "stdout",
     "output_type": "stream",
     "text": [
      "Current list of numbers: [12, 29, 2, 11, 39, 17]\n",
      "What would you like to do with this list? 0. Exit, 1. Add, 2. Remove\n",
      "What number would you like to remove from the list?\n",
      "Current list of numbers: [29, 2, 11, 39, 17]\n",
      "What would you like to do with this list? 0. Exit, 1. Add, 2. Remove\n",
      "What number would you like to remove from the list?\n",
      "Current list of numbers: [29, 2, 11, 39]\n",
      "What would you like to do with this list? 0. Exit, 1. Add, 2. Remove\n",
      "What number would you like to add to the list?\n",
      "Current list of numbers: [29, 2, 11, 39, 1020]\n",
      "What would you like to do with this list? 0. Exit, 1. Add, 2. Remove\n",
      "Final numbers: [29, 2, 11, 39, 1020]\n"
     ]
    }
   ],
   "source": [
    "import java.util.ArrayList;\n",
    "import java.util.Arrays;\n",
    "import java.util.Scanner;\n",
    "\n",
    "public class Crud {\n",
    "\n",
    "    static ArrayList<Integer> numbers = new ArrayList<>(Arrays.asList(12,29,2,11,39,17));\n",
    "\n",
    "    static ArrayList<Integer> create(int x){\n",
    "        numbers.add(x);\n",
    "        return numbers;\n",
    "    }\n",
    "\n",
    "    static ArrayList<Integer> remove(int x){\n",
    "        numbers.remove((Integer)x);\n",
    "        return numbers;\n",
    "    }\n",
    "    \n",
    "\n",
    "    public static void main(String [] args){\n",
    "        Scanner sc = new Scanner(System.in);\n",
    "               \n",
    "        while(true){\n",
    "            System.out.println(\"Current list of numbers: \"+numbers);\n",
    "            System.out.println(\"What would you like to do with this list? 0. Exit, 1. Add, 2. Remove\");\n",
    "\n",
    "            int response = sc.nextInt();\n",
    "            if(response == 0){\n",
    "                break;\n",
    "            } else if (response == 1){\n",
    "                System.out.println(\"What number would you like to add to the list?\");\n",
    "                int numToAdd = sc.nextInt();\n",
    "                create(numToAdd);\n",
    "            } else if (response == 2){\n",
    "                System.out.println(\"What number would you like to remove from the list?\");\n",
    "                int numToRemove = sc.nextInt();\n",
    "                if (numbers.contains(numToRemove)) {\n",
    "                    remove(numToRemove);\n",
    "                } else {\n",
    "                    System.out.println(\"Number not found in the list.\");\n",
    "                }\n",
    "\n",
    "            } else {\n",
    "                System.out.println(\"Invalid choice. Please enter 0, 1, or 2.\");\n",
    "            }\n",
    "        }\n",
    "\n",
    "\n",
    "        System.out.println(\"Final numbers: \" + numbers);\n",
    "    }\n",
    "\n",
    "\n",
    "\n",
    "}\n",
    "\n",
    "\n",
    "Crud.main(null);"
   ]
  }
 ],
 "metadata": {
  "kernelspec": {
   "display_name": "Java",
   "language": "java",
   "name": "java"
  },
  "language_info": {
   "codemirror_mode": "java",
   "file_extension": ".jshell",
   "mimetype": "text/x-java-source",
   "name": "Java",
   "pygments_lexer": "java",
   "version": "11.0.20+8-post-Ubuntu-1ubuntu122.04"
  },
  "orig_nbformat": 4
 },
 "nbformat": 4,
 "nbformat_minor": 2
}
