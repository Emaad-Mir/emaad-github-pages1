{
 "cells": [
  {
   "cell_type": "markdown",
   "metadata": {},
   "source": [
    "---\n",
    "toc: true\n",
    "comments: true\n",
    "layout: post\n",
    "title: 2015 FRQ 4\n",
    "description: Response to FRQ 4 from the 2015 AP CSA Exam\n",
    "courses: { csp: {week: 24} }\n",
    "type: hacks\n",
    "---"
   ]
  },
  {
   "cell_type": "markdown",
   "metadata": {},
   "source": [
    "# Quick Note\n",
    "\n",
    "For each part of this FRQ and the other three FRQs, I included two versions of the solution: one with no runtime (i.e. CollegeBoard's key) and one with runtime."
   ]
  },
  {
   "cell_type": "markdown",
   "metadata": {},
   "source": [
    "# Question 4: Interfaces (includes Classes and some Methods and Control Structures)\n",
    "\n",
    "Directions: SHOW ALL YOUR WORK. REMEMBER THAT PROGRAM SEGMENTS ARE TO BE WRITTEN IN JAVA.\n",
    "\n",
    "Notes:\n",
    " \n",
    "\n",
    "Assume that the classes listed in the Java Quick Reference have been imported where appropriate.\n",
    "\n",
    "Unless otherwise noted in the question, assume that parameters in method calls are not null and that methods are called only when their preconditions are satisfied.\n",
    "\n",
    "In writing solutions for each question, you may use any of the accessible methods that are listed in classes defined in that question. Writing significant amounts of code that can be replaced by a call to one of these methods will not receive full credit.\u0010\n",
    "\n",
    "This question involves the design of an interface, writing a class that implements the interface, and writing a method that uses the interface."
   ]
  },
  {
   "cell_type": "markdown",
   "metadata": {},
   "source": [
    "## Question 4a\n",
    "\n",
    "(a) A number group represents a group of integers defined in some way. It could be empty, or it could contain one or more integers.\n",
    "\n",
    "Write an interface named NumberGroup that represents a group of integers. The interface should have a single contains method that determines if a given integer is in the group. For example, if group1 is of type NumberGroup, and it contains only the two numbers -5 and 3, then group1.contains(-5) would return true, and group1.contains(2) would return false.\n",
    "\n",
    "Write the complete NumberGroup interface. It must have exactly one method."
   ]
  },
  {
   "cell_type": "markdown",
   "metadata": {},
   "source": [
    "### No Runtime"
   ]
  },
  {
   "cell_type": "code",
   "execution_count": null,
   "metadata": {
    "vscode": {
     "languageId": "java"
    }
   },
   "outputs": [],
   "source": [
    "public interface NumberGroup {\n",
    "    boolean contains(int n);\n",
    "}"
   ]
  },
  {
   "cell_type": "markdown",
   "metadata": {},
   "source": [
    "### With Runtime"
   ]
  },
  {
   "cell_type": "code",
   "execution_count": 6,
   "metadata": {
    "vscode": {
     "languageId": "java"
    }
   },
   "outputs": [
    {
     "name": "stdout",
     "output_type": "stream",
     "text": [
      "Test group contains -5: true\n",
      "Test group contains 2: false\n"
     ]
    }
   ],
   "source": [
    "public interface NumberGroup {\n",
    "    boolean contains(int n);\n",
    "}\n",
    "\n",
    "// Test cases\n",
    "class NumberGroupTest {\n",
    "    public static void main(String[] args) {\n",
    "        NumberGroup group = new NumberGroup() {\n",
    "            @Override\n",
    "            public boolean contains(int n) {\n",
    "                // contains only -5 and 3\n",
    "                return n == -5 || n == 3;\n",
    "            }\n",
    "        };\n",
    "\n",
    "        // Test cases\n",
    "        System.out.println(\"Test group contains -5: \" + group.contains(-5)); // should return true\n",
    "        System.out.println(\"Test group contains 2: \" + group.contains(2)); // should return false\n",
    "    }\n",
    "}\n",
    "\n",
    "NumberGroupTest.main(null);"
   ]
  },
  {
   "cell_type": "markdown",
   "metadata": {},
   "source": [
    "## Question 4b\n",
    "\n",
    "(b) A range represents a number group that contains all (and only) the integers between a minimum value and a maximum value, inclusive.\n",
    "Write the Range class, which is a NumberGroup. The Range class represents the group of int values that range from a given minimum value up through a given maximum value, inclusive. For example,the declaration\n",
    "\n",
    "NumberGroup range1 = new Range(-3, 2);\n",
    "\n",
    "\n",
    "represents the group of integer values -3, -2, -1, 0, 1, 2.\n",
    "\n",
    "Write the complete Range class. Include all necessary instance variables and methods as well as a constructor that takes two int parameters. The first parameter represents the minimum value, and the second parameter represents the maximum value of the range. You may assume that the minimum is less than or equal to the maximum."
   ]
  },
  {
   "cell_type": "markdown",
   "metadata": {},
   "source": [
    "### No Runtime"
   ]
  },
  {
   "cell_type": "code",
   "execution_count": null,
   "metadata": {
    "vscode": {
     "languageId": "java"
    }
   },
   "outputs": [],
   "source": [
    "public class Range implements NumberGroup {\n",
    "    private int min, max;\n",
    "\n",
    "    public Range(int min, int max){\n",
    "        this.min = min;\n",
    "        this.max = max;\n",
    "    }\n",
    "\n",
    "    public boolean contains(int value){\n",
    "        return min <= value && value <= max;\n",
    "    }\n",
    "}"
   ]
  },
  {
   "cell_type": "markdown",
   "metadata": {},
   "source": [
    "### With Runtime"
   ]
  },
  {
   "cell_type": "code",
   "execution_count": 5,
   "metadata": {
    "vscode": {
     "languageId": "java"
    }
   },
   "outputs": [
    {
     "name": "stdout",
     "output_type": "stream",
     "text": [
      "Range: -3 -2 -1 0 1 2\n",
      "Range contains -3: true\n",
      "Range contains 0: true\n",
      "Range contains 3: false\n"
     ]
    }
   ],
   "source": [
    "public interface NumberGroup {\n",
    "    boolean contains(int value);\n",
    "}\n",
    "\n",
    "public class Range implements NumberGroup {\n",
    "    private int min;\n",
    "    private int max;\n",
    "\n",
    "    public Range(int min, int max) {\n",
    "        this.min = min;\n",
    "        this.max = max;\n",
    "    }\n",
    "\n",
    "    public boolean contains(int value) {\n",
    "        return value >= min && value <= max;\n",
    "    }\n",
    "\n",
    "    // returns a string representation of all values in the range\n",
    "    @Override\n",
    "    public String toString() {\n",
    "        StringBuilder builder = new StringBuilder();\n",
    "        builder.append(\"Range: \");\n",
    "        for (int i = min; i <= max; i++) {\n",
    "            builder.append(i).append(\" \");\n",
    "        }\n",
    "        return builder.toString().trim(); \n",
    "    }\n",
    "}\n",
    "\n",
    "// Test cases\n",
    "class RangeTest {\n",
    "    public static void main(String[] args) {\n",
    "        Range range = new Range(-3, 2);\n",
    "\n",
    "        // Printing all values in the range\n",
    "        System.out.println(range);\n",
    "\n",
    "        // Test cases\n",
    "        System.out.println(\"Range contains -3: \" + range.contains(-3)); // should return true\n",
    "        System.out.println(\"Range contains 0: \" + range.contains(0)); // should return true\n",
    "        System.out.println(\"Range contains 3: \" + range.contains(3)); // should return false\n",
    "    }\n",
    "}\n",
    "\n",
    "RangeTest.main(null);"
   ]
  },
  {
   "cell_type": "markdown",
   "metadata": {},
   "source": [
    "## Question 4c\n",
    "\n",
    "(c) The MultipleGroups class (not shown) represents a collection of NumberGroup objects and isa NumberGroup. The MultipleGroups class stores the number groups in the instance variable groupList (shown below), which is initialized in the constructor.\n",
    "\n",
    "private List<NumberGroup> groupList;\n",
    "\n",
    "Write the MultipleGroups method contains. The method takes an integer and returns true if and only if the integer is contained in one or more of the number groups in groupList.\n",
    "\n",
    "For example, suppose multiple1 has been declared as an instance of MultipleGroups and consists of the three ranges created by the calls new Range(5, 8), new Range(10, 12), and new Range(1, 6). The following table shows the results of several calls to contains.\n",
    "\n",
    "Complete method contains below.\n",
    " "
   ]
  },
  {
   "cell_type": "markdown",
   "metadata": {},
   "source": [
    "### No Runtime"
   ]
  },
  {
   "cell_type": "code",
   "execution_count": null,
   "metadata": {
    "vscode": {
     "languageId": "java"
    }
   },
   "outputs": [],
   "source": [
    "public class MultipleGroups implements NumberGroup {\n",
    "    public boolean contains(int num){\n",
    "        for(NumberGroup ng : groupList){\n",
    "            if(ng.contains(num)){\n",
    "                return true;\n",
    "            }\n",
    "        }\n",
    "        return false;\n",
    "    }\n",
    "}"
   ]
  },
  {
   "cell_type": "markdown",
   "metadata": {},
   "source": [
    "### With Runtime"
   ]
  },
  {
   "cell_type": "code",
   "execution_count": 3,
   "metadata": {
    "vscode": {
     "languageId": "java"
    }
   },
   "outputs": [
    {
     "name": "stdout",
     "output_type": "stream",
     "text": [
      "Multiple contains 3: true\n",
      "Multiple contains 9: false\n",
      "Multiple contains 5: true\n"
     ]
    }
   ],
   "source": [
    "import java.util.List;\n",
    "import java.util.ArrayList;\n",
    "\n",
    "public class MultipleGroups implements NumberGroup {\n",
    "    private List<NumberGroup> groupList;\n",
    "\n",
    "    public MultipleGroups() {\n",
    "        groupList = new ArrayList<>();\n",
    "        groupList.add(new Range(5, 8));\n",
    "        groupList.add(new Range(10, 12));\n",
    "        groupList.add(new Range(1, 6));\n",
    "    }\n",
    "\n",
    "    public boolean contains(int num) {\n",
    "        for (NumberGroup group : groupList) {\n",
    "            if (group.contains(num)) {\n",
    "                return true;\n",
    "            }\n",
    "        }\n",
    "        return false;\n",
    "    }\n",
    "}\n",
    "\n",
    "// Test cases \n",
    "class MultipleGroupsTest {\n",
    "    public static void main(String[] args) {\n",
    "        MultipleGroups multiple = new MultipleGroups();\n",
    "\n",
    "        // Test cases\n",
    "        System.out.println(\"Multiple contains 3: \" + multiple.contains(3)); // should return true\n",
    "        System.out.println(\"Multiple contains 9: \" + multiple.contains(9)); // should return false\n",
    "        System.out.println(\"Multiple contains 5: \" + multiple.contains(5)); // should return true\n",
    "    }\n",
    "}\n",
    "\n",
    "MultipleGroupsTest.main(null);\n"
   ]
  },
  {
   "cell_type": "markdown",
   "metadata": {},
   "source": [
    "# Reflection for FRQ 4\n",
    "\n",
    "This question was about creating interfaces, which is technically no longer tested on the AP Exam. However, interfaces are still an important concept to know about as they can still have numerous applications, whether it is the projects we do in class or anything beyond that. One of the things that I noticed about this question and some of the other questions in general was that it was a little difficult for me to pinpoint what exact question type this was. Nowadays, it is easy to tell, but back in 2015, it appears that this question had a mixture of these topics, such as classes and methods and control structures. That really highlights how all those topics (methods and control structures, classes, arrays/arraylists, etc.) work together and in certain situations have to be used together. Although I have not had as much exposure to interfaces, I still found this FRQ a good source to practice on them, as that will ensure that I don't completely disregard interfaces and their use even if they are not being tested on anymore. "
   ]
  }
 ],
 "metadata": {
  "kernelspec": {
   "display_name": "Java",
   "language": "java",
   "name": "java"
  },
  "language_info": {
   "codemirror_mode": "java",
   "file_extension": ".jshell",
   "mimetype": "text/x-java-source",
   "name": "Java",
   "pygments_lexer": "java",
   "version": "21+35-LTS-2513"
  }
 },
 "nbformat": 4,
 "nbformat_minor": 2
}
