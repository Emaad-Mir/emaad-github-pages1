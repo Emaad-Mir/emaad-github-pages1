{
 "cells": [
  {
   "cell_type": "markdown",
   "metadata": {},
   "source": [
    "---\n",
    "toc: true\n",
    "comments: true\n",
    "layout: post\n",
    "title: Unit 6 Arrays - Teacher notebook\n",
    "description:  Lesson on the College Board Unit 6 Arrays. This is the teacher notebook.\n",
    "courses: { compsci: {week: 1} }\n",
    "type: hacks\n",
    "---"
   ]
  },
  {
   "cell_type": "markdown",
   "metadata": {},
   "source": [
    "## Intro into Arrays\n",
    "\n",
    "- An **array** is a data structure used to implement a collection (list) of primitive or object reference data.\n",
    "\n",
    "- An **element** is a single value in the **array**\n",
    "\n",
    "- The __**index**__ of an **element** is the position of the element in the **array**\n",
    "\n",
    "    - In java, the **first element** of an array is at **index 0**.\n",
    "\n",
    "- The **length** of an **array** is the number of elements in the array.\n",
    "\n",
    "    - **`length`** is a `public final` data member of an array\n",
    "\n",
    "        - Since `length` is `public`, we can access it in **any class**!\n",
    "\n",
    "        - Since `length` is `final` we cannot change an array's `length` after it has been created\n",
    "    - In Java, the **last element** of an array named `list` is at **index** `list.length -1`"
   ]
  },
  {
   "cell_type": "markdown",
   "metadata": {},
   "source": [
    "## A look into list Memory\n",
    "`int [] listOne = new int[5];`\n",
    "\n",
    "This will allocate a space in memory for 5 integers.\n",
    "\n",
    "```\n",
    "ARRAY: [0, 0, 0, 0, 0]\n",
    "INDEX:  0  1  2  3  4\n",
    "```\n",
    "\n",
    "Using the keyword new uses the default values for the data type. The default values are as follows:\n",
    "\n",
    "| Data Type | Default Value |\n",
    "| --------- | ------------- |\n",
    "| byte      | (byte) 0      |\n",
    "| short     | (short) 0     |\n",
    "| int       | 0             |\n",
    "| double    | 0.0           |\n",
    "| boolean   | false         |\n",
    "| char      | '\\u0000'      |\n",
    "\n",
    "What do we do if we want to insert a value into the array?\n",
    "\n",
    "`listOne[0] = 5;`\n",
    "\n",
    "Gives us the following array:\n",
    "\n",
    "```\n",
    "ARRAY: [0, 0, 0, 0, 0]\n",
    "INDEX:  0  1  2  3  4\n",
    "```\n",
    "\n",
    "What if we want to initialize our own values? We can use an initializer list!\n",
    "\n",
    "`int [] listTwo = {1, 2, 3, 4, 5};`\n",
    "\n",
    "Gives us the following array:\n",
    "\n",
    "```\n",
    "ARRAY: [1, 2, 3, 4, 5]\n",
    "INDEX:  0  1  2  3  4\n",
    "```\n",
    "\n",
    "If we try to access an index outside of the range of existing indexes, we will get an error. But why? Remember the basis of all programming languages is memory. Because we are trying to access a location in memory that does not exist, java will throw an error (`ArrayIndexOutOfBoundsException`).\n",
    "\n",
    "How do we print the array? Directly printing the array will not work, it just prints the value of the array in memory. We need to iterate through the array and print each value individually!"
   ]
  },
  {
   "cell_type": "code",
   "execution_count": 1,
   "metadata": {
    "vscode": {
     "languageId": "java"
    }
   },
   "outputs": [
    {
     "name": "stdout",
     "output_type": "stream",
     "text": [
      "Error at listOne[5] = 13\n",
      "ArrayIndexOutOfBoundsException: We can't access a memory index that doesn't exist!\n",
      "[I@79845b3c\n",
      "0\n"
     ]
    }
   ],
   "source": [
    "/* lets take a look at the above */\n",
    "\n",
    "int [] listOne = new int[5]; // Our list looks like [0, 0, 0, 0, 0] use new key word so that it does not generate random numbers\n",
    "\n",
    "listOne[2] = 33; // Our list looks like [0, 0, 33, 0, 0]\n",
    "listOne[3] = listOne[2] * 3; // Our list looks like [0, 0, 33, 99, 0]\n",
    "\n",
    "try {\n",
    "    listOne[5] = 13; // This will return an error\n",
    "} catch (Exception e) {\n",
    "    System.out.println(\"Error at listOne[5] = 13\");\n",
    "    System.out.println(\"ArrayIndexOutOfBoundsException: We can't access a memory index that doesn't exist!\");\n",
    "}\n",
    "\n",
    "\n",
    "System.out.println(listOne); // THIS DOES NOT PRINT THE LIST!! It prints the value in memory\n",
    "System.out.println(listOne[4]); // This will actually print the vaules in the array"
   ]
  },
  {
   "cell_type": "markdown",
   "metadata": {},
   "source": [
    "## Popcorn Hacks!\n",
    "\n",
    "Write code to print out every element of listOne the following"
   ]
  },
  {
   "cell_type": "code",
   "execution_count": 2,
   "metadata": {
    "vscode": {
     "languageId": "java"
    }
   },
   "outputs": [
    {
     "name": "stdout",
     "output_type": "stream",
     "text": [
      "0\n",
      "0\n",
      "33\n",
      "99\n",
      "0\n",
      "[0, 0, 33, 99, 0]\n"
     ]
    }
   ],
   "source": [
    "/* popcorn hacks go here */\n",
    "\n",
    "for(int i = 0; i <= listOne.length-1; i++){\n",
    "    System.out.println((listOne[i]));\n",
    "}\n",
    "\n",
    "System.out.println(Arrays.toString(listOne));"
   ]
  },
  {
   "cell_type": "markdown",
   "metadata": {},
   "source": [
    "## Reference elements\n",
    "\n",
    "Lists can be made up of elements other than the default data types! We can make lists of objects, or even lists of lists! Lets say I have a class `Student` and I want to make a list of all students in the class. I can do this by creating a list of `Student` objects.\n",
    "\n",
    "```\n",
    "Student [] classList;\n",
    "classList new Student [3];\n",
    "```\n",
    "\n",
    "Keep in mind, however, that the list won't be generated with any students in it. They are initialized to `null` by default, and We need to create the students and then add them to the list ourselves.\n",
    "\n",
    "```\n",
    "classList[0] = new Student(\"Bob\", 12, 3.5);\n",
    "classList[1] = new Student(\"John\", 11, 4.0);\n",
    "classList[2] = new Student(\"Steve\", 10, 3.75);\n",
    "```"
   ]
  },
  {
   "cell_type": "markdown",
   "metadata": {},
   "source": [
    "## Popcorn hacks!\n",
    "\n",
    "Use a class that you have already created and create a list of objects of that class. Then, iterate through the list and print out each object using:\n",
    " 1) a for loop\n",
    " 2) a while loop"
   ]
  },
  {
   "cell_type": "code",
   "execution_count": 23,
   "metadata": {
    "vscode": {
     "languageId": "java"
    }
   },
   "outputs": [],
   "source": [
    "public class Animal {\n",
    "\n",
    "    private String animal;\n",
    "    private int age;\n",
    "    private int weight;\n",
    "\n",
    "    public Animal(String animal, int age, int weight){\n",
    "        this.animal = animal;\n",
    "        this.age = age;\n",
    "        this.weight = weight;\n",
    "\n",
    "    }\n",
    "\n",
    "    public String toString(){\n",
    "        return \"animal= \" + animal + \", age=\" + age + \", weight=\" + weight;\n",
    "    }\n",
    "}"
   ]
  },
  {
   "cell_type": "code",
   "execution_count": 24,
   "metadata": {
    "vscode": {
     "languageId": "java"
    }
   },
   "outputs": [
    {
     "name": "stdout",
     "output_type": "stream",
     "text": [
      "animal= Dog, age=5, weight=100\n",
      "animal= Cat, age=2, weight=30\n",
      "animal= Horse, age=6, weight=200\n"
     ]
    }
   ],
   "source": [
    "/* Popcorn hacks go here */\n",
    "\n",
    "public class Main {\n",
    "    public static void main(String [] args){\n",
    "        Animal[] classList = new Animal[3];\n",
    "        classList[0] = new Animal(\"Dog\", 5, 100);\n",
    "        classList[1] = new Animal(\"Cat\", 2, 30);\n",
    "        classList[2] = new Animal(\"Horse\", 6, 200);\n",
    "\n",
    "        for(Animal animal : classList){\n",
    "            System.out.println(animal);\n",
    "        }\n",
    "    }\n",
    "}\n",
    "\n",
    "Main.main(null);"
   ]
  },
  {
   "cell_type": "markdown",
   "metadata": {},
   "source": [
    "## Enhanced for loops\n",
    "\n",
    "The enhanced `for` loop is also called a for-each loop. Unlike a \"traditional\" indexed `for` loop with three parts separated by semicolons, there are only two parts to the enhanced `for` loop header and they are separated by a colon.\n",
    "\n",
    "The first half of an enhanced `for` loop signature is the type of name for the variable that is a copy of the value stored in the structure. Next a colon separates the variable section from the data structure being traversed with the loop.\n",
    "\n",
    "Inside the body of the loop you are able to access the value stored in the variable. A key point to remember is that you are unable to assign into the variable defined in the header (the signature)\n",
    "\n",
    "You also do not have access to the indices of the array or subscript notation when using the enhanced `for` loop.\n",
    "\n",
    "These loops have a structure similar to the one shown below:\n",
    "\n",
    "```js\n",
    "for (type declaration : structure )\n",
    "{\n",
    "    // statement one;\n",
    "    // statement two;\n",
    "    // ...\n",
    "}\n",
    "```\n",
    "\n",
    "## Popcorn Hacks!\n",
    "\n",
    "Create an array, then use a enhanced for loop to print out each element of the array."
   ]
  },
  {
   "cell_type": "code",
   "execution_count": 47,
   "metadata": {
    "vscode": {
     "languageId": "java"
    }
   },
   "outputs": [
    {
     "name": "stdout",
     "output_type": "stream",
     "text": [
      "61\n",
      "68\n",
      "79\n",
      "86\n",
      "93\n",
      "99\n"
     ]
    }
   ],
   "source": [
    "/* Popcorn hacks go here */\n",
    "int [] grades = {61, 68, 79, 86, 93, 99};\n",
    "\n",
    "for(int grade: grades){\n",
    "    System.out.println(grade);\n",
    "}"
   ]
  },
  {
   "cell_type": "markdown",
   "metadata": {},
   "source": [
    "## Min maxing\n",
    "\n",
    "It is a common task to determine what the largest or smallest value stored is inside an array. in order to do this, we need a method that can ake a parameter of an array of primitive values (`int` or `double`) and return the item that is at the appropriate extreme.\n",
    "\n",
    "Inside the method of a local variable is needed to store the current max of min value that will be compared against all the values in the array. you can assign the current value to be either the opposite extreme or the first item you would be looking at.\n",
    "\n",
    "You can use either a standard `for` loop or an enhanced `for` loop to determine the max or min. Assign the temporary variable a starting value based on what extreme you are searching for.\n",
    "\n",
    "Inside the `for` loop, compare the current value against the local variable, if the current value is better, assign it to the temporary variable. When the loop is over, the local variable will contain the approximate value and is still available and within scope and can be returned from the method.\n",
    "\n",
    "## Popcorn Hacks!\n",
    "Create two lists: one of ints and one of doubles. Use both a standard for loop and an enhanced for loop to find the max and min of each list."
   ]
  },
  {
   "cell_type": "code",
   "execution_count": 48,
   "metadata": {
    "vscode": {
     "languageId": "java"
    }
   },
   "outputs": [
    {
     "name": "stdout",
     "output_type": "stream",
     "text": [
      "The maximum value for the array of scores is 100\n",
      "The minimum value for the array of scores is 62\n",
      "The maximum value for the array of prices is 39.76\n",
      "The minimum value for the array of prices is 31.32\n"
     ]
    }
   ],
   "source": [
    "/* Popcorn hacks go here! */\n",
    "\n",
    "public class MinMax {\n",
    "\n",
    "    public static void main(String [] args){\n",
    "\n",
    "        int [] scores = { 93, 72, 84, 98, 62, 100, 78};\n",
    "        double [] prices = {31.32, 18.73, 20.78, 14.5, 26.54, 39.76, 35.81};\n",
    "\n",
    "        int max1 = scores[0];\n",
    "        for(int i = 0; i < scores.length; i++){ // standard for loop\n",
    "            if(max1 < scores[i]){\n",
    "                max1 = scores[i];\n",
    "            }\n",
    "        }\n",
    "        System.out.println(\"The maximum value for the array of scores is \" + max1);\n",
    "\n",
    "        int min1 = scores[0];\n",
    "        for(int score : scores){ // enhanced for loop\n",
    "            if(min1 > score){\n",
    "                min1 = score;\n",
    "            }\n",
    "        }\n",
    "        System.out.println(\"The minimum value for the array of scores is \" + min1);\n",
    "        \n",
    "\n",
    "        double max2 = prices[0];\n",
    "        for(double price : prices){ // enhanced for loop\n",
    "            if(max2 < price){\n",
    "                max2 = price;\n",
    "            }\n",
    "        }\n",
    "        System.out.println(\"The maximum value for the array of prices is \" + max2);\n",
    "\n",
    "        double min2 = prices[0];\n",
    "        for(int j = 0; j < prices.length; j++){ // standard for loop\n",
    "            if(min2 > scores[j]){\n",
    "                min2 = scores[j];\n",
    "            }\n",
    "        }\n",
    "\n",
    "        System.out.println(\"The minimum value for the array of prices is \" + min2);\n",
    "\n",
    "    \n",
    "    }\n",
    "\n",
    "}\n",
    "MinMax.main(null);\n",
    "\n"
   ]
  },
  {
   "cell_type": "markdown",
   "metadata": {},
   "source": [
    "# Extra\n",
    "\n",
    "I also created a sorting algorithm in Java that sorts both of the lists in the previous code segment from least to greatest."
   ]
  },
  {
   "cell_type": "code",
   "execution_count": 76,
   "metadata": {
    "vscode": {
     "languageId": "java"
    }
   },
   "outputs": [],
   "source": [
    "public class Sort {\n",
    "\n",
    "    public static int [] sortInt(int[] intList) { // sorting for array of ints\n",
    "        int length = intList.length;\n",
    "    \n",
    "        for (int i = 0; i < length; i++) {\n",
    "            for (int j = 0; j < length - i - 1; j++) {\n",
    "                if (intList[j] > intList[j + 1]) {\n",
    "                    int temp = intList[j];\n",
    "                    intList[j] = intList[j+1];\n",
    "                    intList[j + 1] = temp;\n",
    "                }\n",
    "            }\n",
    "        }\n",
    "    \n",
    "        return intList;\n",
    "    }\n",
    "\n",
    "    public static double [] sortDouble(double[] doubleList) { // sorting for array of doubles\n",
    "        int length = doubleList.length;\n",
    "    \n",
    "        for (int i = 0; i < length; i++) {\n",
    "            for (int j = 0; j < length - i - 1; j++) {\n",
    "                if (doubleList[j] > doubleList[j + 1]) {\n",
    "                    double temp = doubleList[j];\n",
    "                    doubleList[j] = doubleList[j+1];\n",
    "                    doubleList[j + 1] = temp;\n",
    "                }\n",
    "            }\n",
    "        }\n",
    "    \n",
    "        return doubleList;\n",
    "    }\n",
    "\n",
    "\n",
    "}"
   ]
  },
  {
   "cell_type": "code",
   "execution_count": 77,
   "metadata": {
    "vscode": {
     "languageId": "java"
    }
   },
   "outputs": [
    {
     "name": "stdout",
     "output_type": "stream",
     "text": [
      "Unsorted Scores List: [93, 72, 84, 98, 62, 100, 78]\n",
      "Unsorted Prices List: [31.32, 18.73, 20.78, 14.5, 26.54, 39.76, 35.81]\n"
     ]
    },
    {
     "name": "stdout",
     "output_type": "stream",
     "text": [
      "Sorted Scores List: [62, 72, 78, 84, 93, 98, 100]\n",
      "Sorted Prices List: [14.5, 18.73, 20.78, 26.54, 31.32, 35.81, 39.76]\n"
     ]
    }
   ],
   "source": [
    "int [] scores = {93, 72, 84, 98, 62, 100, 78};\n",
    "double [] prices = {31.32, 18.73, 20.78, 14.5, 26.54, 39.76, 35.81};\n",
    "\n",
    "System.out.println(\"Unsorted Scores List: \" + Arrays.toString(scores));\n",
    "System.out.println(\"Unsorted Prices List: \" + Arrays.toString(prices));\n",
    "\n",
    "Sort.sortInt(scores);\n",
    "Sort.sortDouble(prices);\n",
    "\n",
    "System.out.println(\"Sorted Scores List: \" + Arrays.toString(scores));\n",
    "System.out.println(\"Sorted Prices List: \" + Arrays.toString(prices));\n"
   ]
  },
  {
   "cell_type": "markdown",
   "metadata": {},
   "source": [
    "Given an input of N integers, find A, the maximum, B, the minimum, and C the median.\n",
    "\n",
    "Print the following in this order: \n",
    "\n",
    "A + B + C \n",
    "\n",
    "A - B - C \n",
    "                                    \n",
    "(A + B) * C\n",
    "\n",
    "Sample data:\n",
    "\n",
    "INPUT:\n",
    "5\n",
    "1 2 3 4 5\n",
    "\n",
    "OUTPUT:\n",
    "9 1 18\n",
    "\n",
    "INPUT:\n",
    "9\n",
    "2 4 6 8 10 10 12 14 16\n",
    "\n",
    "OUTPUT:\n",
    "28 6 180"
   ]
  },
  {
   "cell_type": "code",
   "execution_count": 80,
   "metadata": {
    "vscode": {
     "languageId": "java"
    }
   },
   "outputs": [],
   "source": [
    "public class Cool {\n",
    "\n",
    "    public static int min(int [] array){\n",
    "\n",
    "        int min = array[0];\n",
    "        for(int i = 0; i < array.length; i++){\n",
    "            if(min > array[i]){\n",
    "                min = array[i];\n",
    "            }\n",
    "            \n",
    "        }\n",
    "\n",
    "        return min;\n",
    "    }\n",
    "\n",
    "    public static int max(int [] array){\n",
    "        int max = array[0];\n",
    "        for(int i = 0; i < array.length; i++){\n",
    "            if(max < array[i]){\n",
    "                max = array[i];\n",
    "            }\n",
    "        }\n",
    "\n",
    "        return max;\n",
    "    }\n",
    "\n",
    "    public static int median(int [] array){\n",
    "        int median;\n",
    "        Arrays.sort(array);\n",
    "\n",
    "        if(array.length % 2 != 0){\n",
    "            median = array[array.length/2];\n",
    "\n",
    "        } else {\n",
    "            median = ((array[array.length/2] + array[array.length/2-1])/2);\n",
    "        }\n",
    "\n",
    "        return median;\n",
    "\n",
    "    }\n",
    "\n",
    "    \n",
    "}"
   ]
  },
  {
   "cell_type": "code",
   "execution_count": 87,
   "metadata": {
    "vscode": {
     "languageId": "java"
    }
   },
   "outputs": [
    {
     "name": "stdout",
     "output_type": "stream",
     "text": [
      "Enter the number of digits you would like in the array: \n"
     ]
    },
    {
     "name": "stdout",
     "output_type": "stream",
     "text": [
      "Enter 5 integers!\n",
      "List of your numbers: [3, 16, 8, 5, 11]\n",
      "27\n",
      "5\n",
      "152\n"
     ]
    }
   ],
   "source": [
    "public class Main {\n",
    "    public static void main(String [] args){\n",
    "        Scanner sc = new Scanner(System.in);\n",
    "\n",
    "        System.out.println(\"Enter the number of digits you would like in the array: \");\n",
    "        int n = sc.nextInt();\n",
    "\n",
    "        System.out.printf(\"Enter %d integers!%n\",n);\n",
    "\n",
    "        int [] nums = new int[n];\n",
    "\n",
    "        for(int i = 0; i < n; i++){\n",
    "            nums[i] = sc.nextInt();\n",
    "        }\n",
    "\n",
    "        System.out.println(\"List of your numbers: \" + Arrays.toString(nums));\n",
    "        System.out.println(Cool.max(nums)+Cool.min(nums)+Cool.median(nums));\n",
    "        System.out.println(Cool.max(nums)-Cool.min(nums)-Cool.median(nums));\n",
    "        System.out.println((Cool.max(nums)+Cool.min(nums))*Cool.median(nums));\n",
    "\n",
    "    }\n",
    "}\n",
    "\n",
    "Main.main(null);"
   ]
  },
  {
   "cell_type": "markdown",
   "metadata": {},
   "source": [
    "For extra, create your own fun program using an array"
   ]
  },
  {
   "cell_type": "markdown",
   "metadata": {},
   "source": [
    "This program uses user input in order to create an array of numbers of size n. It then creates two other lists by filtering out all of the odd and even numbers so that there is a separate list of even numbers and a separate list of odd numbers."
   ]
  },
  {
   "cell_type": "code",
   "execution_count": 99,
   "metadata": {
    "vscode": {
     "languageId": "java"
    }
   },
   "outputs": [],
   "source": [
    "public class Extra {\n",
    "\n",
    "    public int [] oddCheck(int [] nums){\n",
    "        int oddCount = 0;\n",
    "        for(int num : nums){\n",
    "            if(num % 2 != 0){\n",
    "                oddCount++;\n",
    "            }\n",
    "        }\n",
    "\n",
    "        int [] oddNums = new int[oddCount];\n",
    "\n",
    "        int i = 0;\n",
    "        for(int num : nums){\n",
    "            if(num % 2 != 0){\n",
    "                oddNums[i] = num;\n",
    "                i++;\n",
    "            }\n",
    "        }\n",
    "\n",
    "        return oddNums;\n",
    "    }\n",
    "\n",
    "\n",
    "    public int [] evenCheck(int [] nums){\n",
    "        int evenCount = 0;\n",
    "        for(int num : nums){\n",
    "            if(num % 2 == 0){\n",
    "                evenCount++;\n",
    "            }\n",
    "        }\n",
    "\n",
    "        int [] evenNums = new int[evenCount];\n",
    "\n",
    "        int j = 0;\n",
    "        for(int num: nums){\n",
    "            if(num % 2 == 0){\n",
    "                evenNums[j] = num;\n",
    "                j++;\n",
    "            }\n",
    "        }\n",
    "\n",
    "        return evenNums;\n",
    "\n",
    "    }\n",
    "\n",
    "    \n",
    "}"
   ]
  },
  {
   "cell_type": "code",
   "execution_count": 105,
   "metadata": {
    "vscode": {
     "languageId": "java"
    }
   },
   "outputs": [
    {
     "name": "stdout",
     "output_type": "stream",
     "text": [
      "Enter the number of digits you would like in the array: \n"
     ]
    },
    {
     "name": "stdout",
     "output_type": "stream",
     "text": [
      "Enter 5 integers!\n",
      "Your entire list of numbers: [21, 17, 35, 8, 41]\n",
      "Your entire list of odd numbers: [21, 17, 35, 41]\n",
      "Your entire list of even numbers: [8]\n"
     ]
    }
   ],
   "source": [
    "Scanner sc = new Scanner(System.in);\n",
    "\n",
    "System.out.println(\"Enter the number of digits you would like in the array: \");\n",
    "int n = sc.nextInt();\n",
    "\n",
    "System.out.printf(\"Enter %d integers!%n\",n);\n",
    "\n",
    "int [] numbers = new int[n];\n",
    "\n",
    "for(int i = 0; i < n; i++){\n",
    "    numbers[i] = sc.nextInt();\n",
    "}\n",
    "\n",
    "Extra extra = new Extra();\n",
    "\n",
    "System.out.println(\"Your entire list of numbers: \" + Arrays.toString(numbers));\n",
    "\n",
    "int [] oddNumbers = extra.oddCheck(numbers);\n",
    "System.out.println(\"Your entire list of odd numbers: \" + Arrays.toString(oddNumbers));\n",
    "\n",
    "int [] evenNumbers = extra.evenCheck(numbers);\n",
    "System.out.println(\"Your entire list of even numbers: \" + Arrays.toString(evenNumbers));\n",
    "\n"
   ]
  }
 ],
 "metadata": {
  "kernelspec": {
   "display_name": "Java",
   "language": "java",
   "name": "java"
  },
  "language_info": {
   "codemirror_mode": "java",
   "file_extension": ".jshell",
   "mimetype": "text/x-java-source",
   "name": "Java",
   "pygments_lexer": "java",
   "version": "21+35-LTS-2513"
  },
  "orig_nbformat": 4
 },
 "nbformat": 4,
 "nbformat_minor": 2
}
