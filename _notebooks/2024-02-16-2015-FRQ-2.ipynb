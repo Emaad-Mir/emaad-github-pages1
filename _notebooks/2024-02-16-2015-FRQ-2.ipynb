{
 "cells": [
  {
   "cell_type": "markdown",
   "metadata": {},
   "source": [
    "---\n",
    "toc: true\n",
    "comments: true\n",
    "layout: post\n",
    "title: 2015 FRQ 2 \n",
    "description: Response to FRQ 2 from the 2015 AP CSA Exam\n",
    "courses: { csp: {week: 24} }\n",
    "type: hacks\n",
    "---"
   ]
  },
  {
   "cell_type": "markdown",
   "metadata": {},
   "source": [
    "# Quick Note\n",
    "\n",
    "For each parts of this FRQ and the other three FRQs, I included two versions of the solution: one with no runtime (i.e. CollegeBoard's key) and one with runtime."
   ]
  },
  {
   "cell_type": "markdown",
   "metadata": {},
   "source": [
    "# Question 2: Classes\n",
    "\n",
    "Directions: SHOW ALL YOUR WORK. REMEMBER THAT PROGRAM SEGMENTS ARE TO BE WRITTEN IN JAVA.\n",
    "\n",
    "Notes:\n",
    "\n",
    "- Assume that the classes listed in the Java Quick Reference have been imported where appropriate.\n",
    "\n",
    "- Unless otherwise noted in the question, assume that parameters in method calls are not null and that methods are called only when their preconditions are satisfied.\n",
    "\n",
    "- In writing solutions for each question, you may use any of the accessible methods that are listed in classes defined in that question. Writing significant amounts of code that can be replaced by a call to one of these methods will not receive full credit.\n",
    "\n",
    "Consider a guessing game in which a player tries to guess a hidden word. The hidden word contains only capital letters and has a length known to the player. A guess contains only capital letters and has the same length as the hidden word.\n",
    "\n",
    "After a guess is made, the player is given a hint that is based on a comparison between the hidden word and the guess. Each position in the hint contains a character that corresponds to the letter in the same position in the guess. The following rules determine the characters that appear in the hint.\n",
    "\n",
    "![]({{site.baseurl}}/images/question2.png)\n",
    "\n",
    "\n",
    "\n",
    "The HiddenWord class will be used to represent the hidden word in the game. The hidden word is passed to the constructor. The class contains a method, getHint, that takes a guess and produces a hint.\n",
    "\n",
    "For example, suppose the variable puzzle is declared as follows.\n",
    "\n",
    "\n",
    "\n",
    "HiddenWord puzzle = new HiddenWord(\"HARPS\");\n",
    "\n",
    "\n",
    "The following table shows several guesses and the hints that would be produced.\n",
    "\n",
    "![]({{site.baseurl}}/images/question2table.png)\n",
    "\n"
   ]
  },
  {
   "cell_type": "markdown",
   "metadata": {},
   "source": [
    "## Question 2a (the only part of this question)\n",
    "\n",
    "Write the complete HiddenWord class, including any necessary instance variables, its constructor, and the method, getHint, described above. You may assume that the length of the guess is the same as the length of the hidden word."
   ]
  },
  {
   "cell_type": "markdown",
   "metadata": {},
   "source": [
    "### No Runtime"
   ]
  },
  {
   "cell_type": "code",
   "execution_count": null,
   "metadata": {
    "vscode": {
     "languageId": "java"
    }
   },
   "outputs": [],
   "source": [
    "public class HiddenWord {\n",
    "    private String concealed;\n",
    "\n",
    "    public HiddenWord(String c){\n",
    "        concealed = c;\n",
    "    }\n",
    "\n",
    "    public String getHint(String guess){\n",
    "        String result = \"\";\n",
    "        for(int i = 0; i < guess.length(); i++){\n",
    "            String chunk = concealed.substring(i, i+1);\n",
    "            String letter = guess.substring(i, i+1);\n",
    "            if(chunk.equals(letter)){\n",
    "                result += chunk;\n",
    "            } else if (concealed.indexOf(letter) != -1){\n",
    "                result += \"+\";\n",
    "            } else {\n",
    "                result += \"*\"\n",
    "            }\n",
    "        }\n",
    "\n",
    "        return result;\n",
    "    }\n",
    "}"
   ]
  },
  {
   "cell_type": "markdown",
   "metadata": {},
   "source": [
    "### With Runtime "
   ]
  },
  {
   "cell_type": "code",
   "execution_count": 3,
   "metadata": {
    "vscode": {
     "languageId": "java"
    }
   },
   "outputs": [
    {
     "name": "stdout",
     "output_type": "stream",
     "text": [
      "Guess: CCCCCC - Hint: C+++++\n",
      "Guess: SKETCH - Hint: ****+*\n",
      "Guess: COPPER - Hint: CO****\n",
      "Guess: CODERS - Hint: COD***\n",
      "Guess: CODING - Hint: CODING\n"
     ]
    }
   ],
   "source": [
    "public class HiddenWord {\n",
    "    private String word;\n",
    "\n",
    "    // initializes the hidden word\n",
    "    public HiddenWord(String hWord) {\n",
    "        word = hWord;\n",
    "    }\n",
    "\n",
    "    // produces a hint based on the guess\n",
    "    public String getHint(String guess) {\n",
    "        StringBuilder hint = new StringBuilder();\n",
    "        for (int i = 0; i < guess.length(); i++) {\n",
    "            String guessLetter = guess.substring(i, i + 1);\n",
    "            String hiddenLetter = word.substring(i, i + 1);\n",
    "\n",
    "            if (guessLetter.equals(hiddenLetter)) {\n",
    "                hint.append(guessLetter); // correct letter in the correct position\n",
    "            } else if (word.contains(guessLetter)) {\n",
    "                hint.append('+'); // correct letter but in the wrong position\n",
    "            } else {\n",
    "                hint.append('*'); // not a correct letter\n",
    "            }\n",
    "        }\n",
    "        return hint.toString();\n",
    "    }\n",
    "\n",
    "    // tests the HiddenWord class\n",
    "    public static void main(String[] args) {\n",
    "        HiddenWord puzzle = new HiddenWord(\"CODING\");\n",
    "\n",
    "        // Tests the getHint method with a list of various guesses\n",
    "        String[] guesses = {\"CCCCCC\", \"SKETCH\", \"COPPER\", \"CODERS\", \"CODING\"};\n",
    "        for (String guess : guesses) {\n",
    "            System.out.println(\"Guess: \" + guess + \" - Hint: \" + puzzle.getHint(guess));\n",
    "        }\n",
    "    }\n",
    "}\n",
    "\n",
    "HiddenWord.main(null);"
   ]
  },
  {
   "cell_type": "markdown",
   "metadata": {},
   "source": [
    "# Reflection for FRQ 2\n",
    "\n",
    "Looking through all of question 2, this was definitely a Classes type question, as the whole question was based on being able to write the code for the entire HiddenWord class based on the information and rules that College Board gave for the guessing game. For the most part, completing this FRQ was not very difficult; however, the only thing that I was stunned on while completing this question was thinking about what the code would look like for if the user guessed a correct letter but it was in the wrong position. That was when I realized I could use != -1 because of the fact that -1 would indicate that the letter was not in the word at all. By writing != -1, that indicates that the letter the user guessed is an index in the word for the user to guess, but it is just in the wrong position. Overall, I also didn't have too terrible of a time completing this FRQ, although I do think that it is important that I review concepts like these further as we approach the AP exam. "
   ]
  }
 ],
 "metadata": {
  "kernelspec": {
   "display_name": "Java",
   "language": "java",
   "name": "java"
  },
  "language_info": {
   "codemirror_mode": "java",
   "file_extension": ".jshell",
   "mimetype": "text/x-java-source",
   "name": "Java",
   "pygments_lexer": "java",
   "version": "21+35-LTS-2513"
  }
 },
 "nbformat": 4,
 "nbformat_minor": 2
}
