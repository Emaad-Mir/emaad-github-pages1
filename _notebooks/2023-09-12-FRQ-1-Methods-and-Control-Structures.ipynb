{
 "cells": [
  {
   "cell_type": "markdown",
   "metadata": {},
   "source": [
    "---\n",
    "# this is YAML front matter\n",
    "layout: post\n",
    "title: 2022 AP CSA FRQ 1 Review and Explanation\n",
    "description: Here is my response to question 1, which is the Methods and Control Structures, on the 2022 AP CSA FRQ.\n",
    "courses: { csa: {week: 4} }\n",
    "type: tangibles\n",
    "---"
   ]
  },
  {
   "cell_type": "markdown",
   "metadata": {},
   "source": [
    "# 2022 AP CSA FRQ #1: Methods and Control Structures"
   ]
  },
  {
   "cell_type": "markdown",
   "metadata": {},
   "source": [
    "## Part A: getScore method"
   ]
  },
  {
   "cell_type": "code",
   "execution_count": null,
   "metadata": {
    "vscode": {
     "languageId": "java"
    }
   },
   "outputs": [],
   "source": [
    "public int getScore(){\n",
    "\n",
    "    int score = 0;\n",
    "\n",
    "    if(levelOne.goalReached){\n",
    "        score += levelOne.getPoints;\n",
    "        if(levelTwo.goalReached){\n",
    "            score += levelTwo.getPoints;\n",
    "            if(levelThree.goalReached){\n",
    "                score += levelThree.getPoints;\n",
    "\n",
    "            }\n",
    "        }\n",
    "\n",
    "    }\n",
    "\n",
    "    if (Game.isBonus){\n",
    "        score *= 3;\n",
    "    }\n",
    "\n",
    "    return score;\n",
    "\n",
    "}"
   ]
  },
  {
   "cell_type": "markdown",
   "metadata": {},
   "source": [
    "## Part B: playManyTimes method"
   ]
  },
  {
   "cell_type": "code",
   "execution_count": null,
   "metadata": {
    "vscode": {
     "languageId": "java"
    }
   },
   "outputs": [],
   "source": [
    "public int playManyTimes(int num){\n",
    "\n",
    "    int highScore = 0;\n",
    "\n",
    "    for(int i = 0; i < num; i++){\n",
    "        play();\n",
    "        int score = getScore;\n",
    "\n",
    "        if(score > highScore){\n",
    "            highScore = score;\n",
    "        }\n",
    "\n",
    "    }\n",
    "\n",
    "    return highScore;\n",
    "\n",
    "}"
   ]
  },
  {
   "cell_type": "markdown",
   "metadata": {},
   "source": [
    "2022 Methods and Control Structures FRQ\n",
    "\n",
    "Generally speaking, the Methods and Control Structures FRQ involve having to write the code for a certain method that College Board provides you with for a specified purpose. For example, with the FRQ I just did, in part a, I had to create a method for getScore, which returned the score of the user. If the game that the user played was a bonus round, their total score would be multiplied by 3. For part b, I had to write the code for the playManyTimes method, which returned the highest score of the games played if the play() method was called more than once."
   ]
  },
  {
   "cell_type": "markdown",
   "metadata": {},
   "source": [
    "<img src=\"{{site.baseurl}}/images/tableofexamples.png\"  width=\"800\" height=\"450\" />"
   ]
  },
  {
   "cell_type": "markdown",
   "metadata": {},
   "source": [
    "# Runnable Versions of the FRQ"
   ]
  },
  {
   "cell_type": "markdown",
   "metadata": {},
   "source": [
    "## Part A Runnable Version"
   ]
  },
  {
   "cell_type": "code",
   "execution_count": 79,
   "metadata": {
    "vscode": {
     "languageId": "java"
    }
   },
   "outputs": [],
   "source": [
    "class Level {\n",
    "    boolean goalReached;\n",
    "    int points;\n",
    "\n",
    "    Level(boolean goalReached, int points) {\n",
    "        this.goalReached = goalReached;\n",
    "        this.points = points;\n",
    "    }\n",
    "\n",
    "    int getPoints() {\n",
    "        return points;\n",
    "    }\n",
    "}\n",
    "\n",
    "class Game {\n",
    "    static boolean isBonus = true;\n",
    "}\n",
    "\n",
    "public class GameScore {\n",
    "\n",
    "    Level levelOne;\n",
    "    Level levelTwo;\n",
    "    Level levelThree;\n",
    "\n",
    "    public GameScore(Level l1, Level l2, Level l3) {\n",
    "        this.levelOne = l1;\n",
    "        this.levelTwo = l2;\n",
    "        this.levelThree = l3;\n",
    "    }\n",
    "\n",
    "    public void play() {\n",
    "        levelOne.goalReached = Math.random() > 0.5;\n",
    "        levelTwo.goalReached = Math.random() > 0.5;\n",
    "        levelThree.goalReached = Math.random() > 0.5;\n",
    "    }\n",
    "\n",
    "    public int getScore() {\n",
    "        int score = 0;\n",
    "\n",
    "        if (levelOne.goalReached) {\n",
    "            score += levelOne.getPoints();\n",
    "            if (levelTwo.goalReached) {\n",
    "                score += levelTwo.getPoints();\n",
    "                if (levelThree.goalReached) {\n",
    "                    score += levelThree.getPoints();\n",
    "                }\n",
    "            }\n",
    "        }\n",
    "\n",
    "        if (Game.isBonus) {\n",
    "            score *= 3;\n",
    "        }\n",
    "\n",
    "        return score;\n",
    "    }\n",
    "\n",
    "    public void displayScore() {\n",
    "        int score = getScore();\n",
    "\n",
    "        if (Game.isBonus) {\n",
    "            System.out.println(\"Your Original Score : \" + score/3);\n",
    "            System.out.println(\"Your Final Score (After Tripling): \" + score);\n",
    "        } else {\n",
    "            System.out.println(\"Your Final Score (No Tripling): \" + score);\n",
    "        }\n",
    "    }\n",
    "}"
   ]
  },
  {
   "cell_type": "markdown",
   "metadata": {},
   "source": [
    "### Part A Testing"
   ]
  },
  {
   "cell_type": "code",
   "execution_count": 80,
   "metadata": {
    "vscode": {
     "languageId": "java"
    }
   },
   "outputs": [
    {
     "name": "stdout",
     "output_type": "stream",
     "text": [
      "Your Original Score : 400\n",
      "Your Final Score (After Tripling): 1200\n"
     ]
    }
   ],
   "source": [
    "public class GameScoreTest {\n",
    "    public static void main(String[] args) {\n",
    "        Level l1 = new Level(true, 300);\n",
    "        Level l2 = new Level(true, 100);\n",
    "        Level l3 = new Level(false, 500);\n",
    "\n",
    "        GameScore gameScore = new GameScore(l1, l2, l3);\n",
    "        gameScore.displayScore();\n",
    "    }\n",
    "}\n",
    "\n",
    "GameScoreTest.main(null);"
   ]
  },
  {
   "cell_type": "markdown",
   "metadata": {},
   "source": [
    "## Part B Runnable Version"
   ]
  },
  {
   "cell_type": "code",
   "execution_count": 81,
   "metadata": {
    "vscode": {
     "languageId": "java"
    }
   },
   "outputs": [],
   "source": [
    "public class GameSimulator {\n",
    "\n",
    "    GameScore game;\n",
    "\n",
    "    public GameSimulator() {\n",
    "        Level l1 = new Level(true, 100);\n",
    "        Level l2 = new Level(true, 200);\n",
    "        Level l3 = new Level(true, 300);\n",
    "\n",
    "        game = new GameScore(l1, l2, l3);\n",
    "    }\n",
    "\n",
    "    public int playManyTimes(int num) {\n",
    "        int highScore = 0;\n",
    "\n",
    "        for (int i = 0; i < num; i++) {\n",
    "            game.play();\n",
    "            int score = game.getScore(); \n",
    "\n",
    "            if (score > highScore) {\n",
    "                highScore = score;\n",
    "            }\n",
    "        }\n",
    "\n",
    "        return highScore;\n",
    "    }\n",
    "\n",
    "}\n"
   ]
  },
  {
   "cell_type": "markdown",
   "metadata": {},
   "source": [
    "### Part B Testing"
   ]
  },
  {
   "cell_type": "code",
   "execution_count": 83,
   "metadata": {
    "vscode": {
     "languageId": "java"
    }
   },
   "outputs": [
    {
     "name": "stdout",
     "output_type": "stream",
     "text": [
      "Highest Score Achieved: 300\n"
     ]
    }
   ],
   "source": [
    "public class Testing2 {\n",
    "    public static void main(String[] args) {\n",
    "        GameSimulator simulator = new GameSimulator();\n",
    "        int highestScore = simulator.playManyTimes(4); \n",
    "        System.out.println(\"Highest Score Achieved: \" + highestScore);\n",
    "    }\n",
    "}\n",
    "\n",
    "Testing2.main(null);"
   ]
  },
  {
   "cell_type": "code",
   "execution_count": null,
   "metadata": {
    "vscode": {
     "languageId": "java"
    }
   },
   "outputs": [],
   "source": []
  }
 ],
 "metadata": {
  "kernelspec": {
   "display_name": "Java",
   "language": "java",
   "name": "java"
  },
  "language_info": {
   "codemirror_mode": "java",
   "file_extension": ".jshell",
   "mimetype": "text/x-java-source",
   "name": "Java",
   "pygments_lexer": "java",
   "version": "11.0.20+8-post-Ubuntu-1ubuntu122.04"
  },
  "orig_nbformat": 4
 },
 "nbformat": 4,
 "nbformat_minor": 2
}
