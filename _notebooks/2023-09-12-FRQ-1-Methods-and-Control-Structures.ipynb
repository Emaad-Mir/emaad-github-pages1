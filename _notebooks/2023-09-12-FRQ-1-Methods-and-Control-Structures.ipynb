{
 "cells": [
  {
   "cell_type": "markdown",
   "metadata": {},
   "source": [
    "---\n",
    "# this is YAML front matter\n",
    "layout: post\n",
    "title: 2022 AP CSA FRQ 1 Review and Explanation\n",
    "description: Here is my response to question 1, which is the Methods and Control Structures, on the 2022 AP CSA FRQ.\n",
    "courses: { csa: {week: 4, categories: [3.E]} }\n",
    "type: tangibles\n",
    "---"
   ]
  },
  {
   "cell_type": "markdown",
   "metadata": {},
   "source": [
    "# 2022 AP CSA FRQ #1: Methods and Control Structures"
   ]
  },
  {
   "cell_type": "code",
   "execution_count": null,
   "metadata": {
    "vscode": {
     "languageId": "java"
    }
   },
   "outputs": [],
   "source": [
    "public int getScore(){\n",
    "\n",
    "    int score = 0;\n",
    "\n",
    "    if(levelOne.goalReached){\n",
    "        score += levelOne.getPoints;\n",
    "    } \n",
    "        if(levelTwo.goalReached){\n",
    "            score += levelTwo.getPoints;\n",
    "        }\n",
    "            if(levelThree.goalReached){\n",
    "                score += levelThree.getPoints;\n",
    "            }\n",
    "\n",
    "    if (Game.isBonus){\n",
    "        score * 3;\n",
    "    }\n",
    "\n",
    "    return score;\n",
    "\n",
    "}"
   ]
  },
  {
   "cell_type": "code",
   "execution_count": null,
   "metadata": {
    "vscode": {
     "languageId": "java"
    }
   },
   "outputs": [],
   "source": [
    "public int playManyTimes(int num){\n",
    "\n",
    "    int highScore = 0;\n",
    "\n",
    "    for(int i = 0; i < num; i++){\n",
    "        play();\n",
    "        int score = getScore;\n",
    "\n",
    "        if(score > highScore){\n",
    "            highScore = score;\n",
    "        }\n",
    "\n",
    "    }\n",
    "\n",
    "    return highScore;\n",
    "\n",
    "}"
   ]
  },
  {
   "cell_type": "markdown",
   "metadata": {},
   "source": [
    "2022 Methods and Control Structures FRQ\n",
    "\n",
    "Generally speaking, the Methods and Control Structures FRQ involve having to write the code for a certain method that College Board provides you with for a specified purpose. For example, with the FRQ I just did, in part a, I had to create a method for getScore, which returned the score of the user. If the game that the user played was a bonus round, their total score would be multiplied by 3. For part b, I had to write the code for the playManyTimes method, which returned the highest score of the games played if the play() method was called more than once."
   ]
  },
  {
   "cell_type": "markdown",
   "metadata": {},
   "source": [
    "<img src=\"{{site.baseurl}}/images/tableofexamples.png\"  width=\"800\" height=\"175\" />"
   ]
  }
 ],
 "metadata": {
  "language_info": {
   "name": "python"
  },
  "orig_nbformat": 4
 },
 "nbformat": 4,
 "nbformat_minor": 2
}
