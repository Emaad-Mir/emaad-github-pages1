{
 "cells": [
  {
   "cell_type": "markdown",
   "metadata": {},
   "source": [
    "---\n",
    "# this is YAML front matter\n",
    "layout: post\n",
    "title: 2022 AP CSA FRQ 1 Review and Explanation\n",
    "description: Here is my response to question 1, which is the Methods and Control Structures, on the 2022 AP CSA FRQ.\n",
    "courses: { csa: {week: 4, categories: [3.E]} }\n",
    "type: tangibles\n",
    "---"
   ]
  },
  {
   "cell_type": "markdown",
   "metadata": {},
   "source": [
    "# 2022 AP CSA FRQ #1: Methods and Control Structures"
   ]
  },
  {
   "cell_type": "code",
   "execution_count": null,
   "metadata": {
    "vscode": {
     "languageId": "java"
    }
   },
   "outputs": [],
   "source": [
    "public int getScore(){\n",
    "\n",
    "    int score = 0;\n",
    "\n",
    "    if(levelOne.goalReached){\n",
    "        score += levelOne.getPoints;\n",
    "    } \n",
    "        if(levelTwo.goalReached){\n",
    "            score += levelTwo.getPoints;\n",
    "        }\n",
    "            if(levelThree.goalReached){\n",
    "                score += levelThree.getPoints;\n",
    "            }\n",
    "\n",
    "    if (Game.isBonus){\n",
    "        score * 3;\n",
    "    }\n",
    "\n",
    "    return score;\n",
    "\n",
    "}"
   ]
  },
  {
   "cell_type": "code",
   "execution_count": null,
   "metadata": {
    "vscode": {
     "languageId": "java"
    }
   },
   "outputs": [],
   "source": [
    "public int playManyTimes(int num){\n",
    "\n",
    "    int highScore = 0;\n",
    "\n",
    "    for(int i = 0; i < num; i++){\n",
    "        play();\n",
    "        int score = getScore;\n",
    "\n",
    "        if(score > highScore){\n",
    "            highScore = score;\n",
    "        }\n",
    "\n",
    "    }\n",
    "\n",
    "    return highScore;\n",
    "\n",
    "}"
   ]
  },
  {
   "cell_type": "markdown",
   "metadata": {},
   "source": [
    "2022 Methods and Control Structures FRQ\n",
    "\n",
    "Generally speaking, the Methods and Control Structures FRQ involve having to write the code for a certain method that College Board provides you with for a specified purpose. For example, with the FRQ I just did, in part a, I had to create a method for getScore, which returned the score of the user. If the game that the user played was a bonus round, their total score would be multiplied by 3. For part b, I had to write the code for the playManyTimes method, which returned the highest score of the games played if the play() method was called more than once."
   ]
  },
  {
   "cell_type": "markdown",
   "metadata": {},
   "source": [
    "<img src=\"{{site.baseurl}}/images/tableofexamples.png\"  width=\"800\" height=\"450\" />"
   ]
  },
  {
   "cell_type": "markdown",
   "metadata": {},
   "source": [
    "# Runnable Versions of the FRQ"
   ]
  },
  {
   "cell_type": "code",
   "execution_count": 21,
   "metadata": {
    "vscode": {
     "languageId": "java"
    }
   },
   "outputs": [
    {
     "name": "stdout",
     "output_type": "stream",
     "text": [
      "Your Score (After Tripling): 1200\n",
      "Your Score (Before Tripling): 400\n"
     ]
    }
   ],
   "source": [
    "// Create a Level class that represents a game level with goals and points\n",
    "class Level {\n",
    "    boolean goalReached;\n",
    "    int points;\n",
    "\n",
    "    Level(boolean goalReached, int points) {\n",
    "        this.goalReached = goalReached;\n",
    "        this.points = points;\n",
    "    }\n",
    "\n",
    "    int getPoints() {\n",
    "        return points;\n",
    "    }\n",
    "}\n",
    "\n",
    "// Create a Game class to determine if the game is in bonus mode\n",
    "class Game {\n",
    "    static boolean isBonus = false;\n",
    "}\n",
    "\n",
    "public class GameScore {\n",
    "\n",
    "    Level levelOne = new Level(true, 100);  // Example values\n",
    "    Level levelTwo = new Level(false, 200);\n",
    "    Level levelThree = new Level(true, 300);\n",
    "\n",
    "    public int getScore() {\n",
    "        int score = 0;\n",
    "\n",
    "        if(levelOne.goalReached) {\n",
    "            score += levelOne.getPoints();\n",
    "        }\n",
    "        if(levelTwo.goalReached) {\n",
    "            score += levelTwo.getPoints();\n",
    "        }\n",
    "        if(levelThree.goalReached) {\n",
    "            score += levelThree.getPoints();\n",
    "        }\n",
    "\n",
    "        if (Game.isBonus) {\n",
    "            score *= 3;\n",
    "        }\n",
    "\n",
    "        return score; // hello\n",
    "    }\n",
    "\n",
    "    public void displayScore() {\n",
    "        int score = getScore();\n",
    "\n",
    "        if (Game.isBonus) {\n",
    "            System.out.println(\"Your Score (After Tripling): \" + score);\n",
    "        } else {\n",
    "            System.out.println(\"Your Score (Before Tripling): \" + score);\n",
    "        }\n",
    "    }\n",
    "\n",
    "    public static void main(String[] args) {\n",
    "        GameScore gameScore = new GameScore();\n",
    "        gameScore.displayScore();\n",
    "\n",
    "        Game.isBonus = false;\n",
    "        gameScore.displayScore();\n",
    "    }\n",
    "}\n",
    "\n",
    "GameScore.main(null);\n"
   ]
  },
  {
   "cell_type": "code",
   "execution_count": null,
   "metadata": {
    "vscode": {
     "languageId": "java"
    }
   },
   "outputs": [],
   "source": []
  }
 ],
 "metadata": {
  "kernelspec": {
   "display_name": "Java",
   "language": "java",
   "name": "java"
  },
  "language_info": {
   "codemirror_mode": "java",
   "file_extension": ".jshell",
   "mimetype": "text/x-java-source",
   "name": "Java",
   "pygments_lexer": "java",
   "version": "11.0.20+8-post-Ubuntu-1ubuntu122.04"
  },
  "orig_nbformat": 4
 },
 "nbformat": 4,
 "nbformat_minor": 2
}
