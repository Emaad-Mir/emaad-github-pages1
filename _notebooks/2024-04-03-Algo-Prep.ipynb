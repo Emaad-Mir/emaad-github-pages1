{
 "cells": [
  {
   "cell_type": "markdown",
   "metadata": {},
   "source": [
    "---\n",
    "title: Algorhythmic Experience Blog\n",
    "description: This blog details some of my experiences at the Algorythmic Event as well as some code blocks to illustrate what each group showed. \n",
    "toc: true\n",
    "layout: post\n",
    "type: hacks\n",
    "comments: true\n",
    "---"
   ]
  },
  {
   "cell_type": "markdown",
   "metadata": {},
   "source": [
    "# Actual Code for the Sorts"
   ]
  },
  {
   "cell_type": "markdown",
   "metadata": {},
   "source": [
    "## Bubble Sort"
   ]
  },
  {
   "cell_type": "code",
   "execution_count": 2,
   "metadata": {
    "vscode": {
     "languageId": "java"
    }
   },
   "outputs": [
    {
     "name": "stdout",
     "output_type": "stream",
     "text": [
      "Original array: \n",
      "5 1 4 2 8 \n",
      "Sorted array: \n",
      "1 2 4 5 8 "
     ]
    }
   ],
   "source": [
    "public class BubbleSort {\n",
    "    public static void bubbleSort(int[] data) {\n",
    "        int length = data.length;\n",
    "\n",
    "        for (int iIndex = 0; iIndex < length; iIndex++) {\n",
    "            boolean swapped = false;\n",
    "\n",
    "            for (int jIndex = 0; jIndex < length - iIndex - 1; jIndex++) {\n",
    "\n",
    "                if (data[jIndex] > data[jIndex + 1]) {\n",
    "                    int temp = data[jIndex];\n",
    "                    data[jIndex] = data[jIndex + 1];\n",
    "                    data[jIndex + 1] = temp;\n",
    "                    swapped = true;\n",
    "                }\n",
    "            }\n",
    "\n",
    "            if (!swapped) {\n",
    "                break;\n",
    "            }\n",
    "        }\n",
    "    }\n",
    "\n",
    "    public static void main(String[] args) {\n",
    "        int[] data = {5, 1, 4, 2, 8};\n",
    "        System.out.println(\"Original array: \");\n",
    "        for (int value : data) {\n",
    "            System.out.print(value + \" \");\n",
    "        }\n",
    "        System.out.println();\n",
    "\n",
    "        bubbleSort(data);\n",
    "\n",
    "        System.out.println(\"Sorted array: \");\n",
    "        for (int value : data) {\n",
    "            System.out.print(value + \" \");\n",
    "        }\n",
    "    }\n",
    "}\n",
    "\n",
    "BubbleSort.main(null);\n"
   ]
  },
  {
   "cell_type": "markdown",
   "metadata": {},
   "source": [
    "### Explanation\n",
    "\n",
    "The bubble sorting algorithm is an algorithm that compares two consecutive elements of a list. If the two elements (example numbers) are in the right order, nothing needs to be changed. If the numbers are not in the right order, however, they will then be swapped so that the smaller numbers can be \"bubbled\" to the top of the list.\n",
    "\n",
    "Bubble sort gets the job done of sorting the list; however, it does have an average time complexity of O(n^2), meaning that the number of operations performed will get larger and larger as the list in question gets larger and larger. Thus, even though bubble sort is one of the more simpler algorithms to understand, it may not be the best option when it comes to sorting.\n",
    "\n"
   ]
  },
  {
   "cell_type": "markdown",
   "metadata": {},
   "source": [
    "## Quick Sort"
   ]
  },
  {
   "cell_type": "code",
   "execution_count": 5,
   "metadata": {
    "vscode": {
     "languageId": "java"
    }
   },
   "outputs": [
    {
     "name": "stdout",
     "output_type": "stream",
     "text": [
      "Original array:\n",
      "10 7 8 9 1 5 \n",
      "Sorted array:\n",
      "1 5 7 8 9 10 "
     ]
    }
   ],
   "source": [
    "public class QuickSort {\n",
    "    public static void quickSort(int[] data, int left, int right) {\n",
    "        if (left < right) {\n",
    "            int pivotIndex = partition(data, left, right);\n",
    "            quickSort(data, left, pivotIndex - 1);\n",
    "            quickSort(data, pivotIndex + 1, right);\n",
    "        }\n",
    "    }\n",
    "\n",
    "    private static int partition(int[] data, int left, int right) {\n",
    "        int pivot = data[left];\n",
    "        int leftIndex = left + 1;\n",
    "        int rightIndex = right;\n",
    "\n",
    "        while (true) {\n",
    "            while (leftIndex <= rightIndex && data[leftIndex] <= pivot) {\n",
    "                leftIndex++;\n",
    "            }\n",
    "            while (rightIndex >= leftIndex && data[rightIndex] >= pivot) {\n",
    "                rightIndex--;\n",
    "            }\n",
    "            if (rightIndex <= leftIndex) {\n",
    "                break;\n",
    "            }\n",
    "            int temp = data[leftIndex];\n",
    "            data[leftIndex] = data[rightIndex];\n",
    "            data[rightIndex] = temp;\n",
    "        }\n",
    "\n",
    "        data[left] = data[rightIndex];\n",
    "        data[rightIndex] = pivot;\n",
    "\n",
    "        return rightIndex;\n",
    "    }\n",
    "\n",
    "    public static void main(String[] args) {\n",
    "        int[] data = {10, 7, 8, 9, 1, 5};\n",
    "        System.out.println(\"Original array:\");\n",
    "        for (int value : data) {\n",
    "            System.out.print(value + \" \");\n",
    "        }\n",
    "        System.out.println();\n",
    "\n",
    "        quickSort(data, 0, data.length - 1);\n",
    "\n",
    "        System.out.println(\"Sorted array:\");\n",
    "        for (int value : data) {\n",
    "            System.out.print(value + \" \");\n",
    "        }\n",
    "    }\n",
    "}\n",
    "\n",
    "QuickSort.main(null);"
   ]
  },
  {
   "cell_type": "markdown",
   "metadata": {},
   "source": [
    "### Explanation\n",
    "\n",
    "Quick sort selects one element of a list as a pivot. The list is then rearranged so that all elements less than the pivot come before it, while all elements greater than the pivot come after it. This process guarantees that the pivot element is in its correct position in the sorted list. Quick sort then recursively applies the same logic to the list of elements before the pivot and the list of elements after the pivot until the entire list is sorted.\n",
    "\n",
    "Quick sort has an average time complexity of O(n log n), similar to merge sort. However, its worst-case performance is O(n^2), which occurs when the list is already nearly sorted or when the smallest or largest element is always chosen as the pivot. "
   ]
  },
  {
   "cell_type": "markdown",
   "metadata": {},
   "source": [
    "## Merge Sort"
   ]
  },
  {
   "cell_type": "code",
   "execution_count": 6,
   "metadata": {
    "vscode": {
     "languageId": "java"
    }
   },
   "outputs": [
    {
     "name": "stdout",
     "output_type": "stream",
     "text": [
      "Original array:\n",
      "12 11 13 5 6 7 \n",
      "Sorted array:\n",
      "5 6 7 11 12 13 "
     ]
    }
   ],
   "source": [
    "public class MergeSort {\n",
    "    public static int[] mergeSort(int[] data) {\n",
    "        if (data.length < 2) {\n",
    "            return data;\n",
    "        }\n",
    "\n",
    "        int middle = data.length / 2;\n",
    "        int[] left = new int[middle];\n",
    "        int[] right = new int[data.length - middle];\n",
    "\n",
    "        for (int i = 0; i < middle; i++) {\n",
    "            left[i] = data[i];\n",
    "        }\n",
    "        for (int i = middle; i < data.length; i++) {\n",
    "            right[i - middle] = data[i];\n",
    "        }\n",
    "\n",
    "        mergeSort(left);\n",
    "        mergeSort(right);\n",
    "\n",
    "        return merge(left, right, data);\n",
    "    }\n",
    "\n",
    "    private static int[] merge(int[] left, int[] right, int[] data) {\n",
    "        int leftIndex = 0, rightIndex = 0, mergeIndex = 0;\n",
    "\n",
    "        while (leftIndex < left.length && rightIndex < right.length) {\n",
    "            if (left[leftIndex] <= right[rightIndex]) {\n",
    "                data[mergeIndex++] = left[leftIndex++];\n",
    "            } else {\n",
    "                data[mergeIndex++] = right[rightIndex++];\n",
    "            }\n",
    "        }\n",
    "\n",
    "        while (leftIndex < left.length) {\n",
    "            data[mergeIndex++] = left[leftIndex++];\n",
    "        }\n",
    "\n",
    "        while (rightIndex < right.length) {\n",
    "            data[mergeIndex++] = right[rightIndex++];\n",
    "        }\n",
    "\n",
    "        return data;\n",
    "    }\n",
    "\n",
    "    public static void main(String[] args) {\n",
    "        int[] data = {12, 11, 13, 5, 6, 7};\n",
    "        System.out.println(\"Original array:\");\n",
    "        for (int value : data) {\n",
    "            System.out.print(value + \" \");\n",
    "        }\n",
    "        System.out.println();\n",
    "\n",
    "        mergeSort(data);\n",
    "\n",
    "        System.out.println(\"Sorted array:\");\n",
    "        for (int value : data) {\n",
    "            System.out.print(value + \" \");\n",
    "        }\n",
    "    }\n",
    "}\n",
    "\n",
    "MergeSort.main(null);"
   ]
  },
  {
   "cell_type": "markdown",
   "metadata": {},
   "source": [
    "### Explanation\n",
    "\n",
    "With the merge sorting algorithm, the algorithm takes one array and splits it in half. For each half of the array, the algorithm rearranges the array so that the elements are in the desired order. Once that has been done successfully, the algorithm merges the two arrays/lists back together so that the desired order is achieved for the entire array/list.\n",
    "\n",
    "Merge sort, just like bubble sort, is also another way of sorting a list back into the desired order. However, merge sort is better than bubble sort in terms of time complexity, with merge sort having an average time complexity of O(nlogn). This means that the amount of operations performed will not be as large as the input size increases for a merge sort algorithm as it would be for a bubble sorting algorithm."
   ]
  },
  {
   "cell_type": "markdown",
   "metadata": {},
   "source": [
    "## Insertion Sort"
   ]
  },
  {
   "cell_type": "code",
   "execution_count": 4,
   "metadata": {
    "vscode": {
     "languageId": "java"
    }
   },
   "outputs": [
    {
     "name": "stdout",
     "output_type": "stream",
     "text": [
      "Original array:\n",
      "9 14 3 2 43 11 58 22 \n",
      "Sorted array:\n",
      "2 3 9 11 14 22 43 58 "
     ]
    }
   ],
   "source": [
    "public class InsertionSort {\n",
    "    public static void insertionSort(int[] data) {\n",
    "        for (int scanIndex = 1; scanIndex < data.length; scanIndex++) {\n",
    "            int tmp = data[scanIndex];\n",
    "            int minIndex = scanIndex;\n",
    "\n",
    "            while (minIndex > 0 && tmp < data[minIndex - 1]) {\n",
    "                data[minIndex] = data[minIndex - 1];\n",
    "                minIndex--;\n",
    "            }\n",
    "\n",
    "            data[minIndex] = tmp;\n",
    "        }\n",
    "    }\n",
    "\n",
    "    public static void main(String[] args) {\n",
    "        int[] data = {9, 14, 3, 2, 43, 11, 58, 22};\n",
    "        System.out.println(\"Original array:\");\n",
    "        for (int value : data) {\n",
    "            System.out.print(value + \" \");\n",
    "        }\n",
    "        System.out.println();\n",
    "\n",
    "        insertionSort(data);\n",
    "\n",
    "        System.out.println(\"Sorted array:\");\n",
    "        for (int value : data) {\n",
    "            System.out.print(value + \" \");\n",
    "        }\n",
    "    }\n",
    "}\n",
    "\n",
    "InsertionSort.main(null);"
   ]
  },
  {
   "cell_type": "markdown",
   "metadata": {},
   "source": [
    "Insertion sort builds the final sorted list one item at a time. It removes one element per iteration and finds the location it belongs within the sorted part of the list, inserting it there. This process repeats until no unsorted elements remain.\n",
    "\n",
    "Even though insertion sort has an average and worst-case time complexity of O(n^2), making it less efficient for large lists, it has several advantages. It is adaptive, meaning that its efficiency increases if the list is already partially sorted, and it is stable, keeping identical elements in the same order as they appear in the input. "
   ]
  },
  {
   "cell_type": "markdown",
   "metadata": {},
   "source": [
    "## Selection Sort"
   ]
  },
  {
   "cell_type": "code",
   "execution_count": 3,
   "metadata": {
    "vscode": {
     "languageId": "java"
    }
   },
   "outputs": [
    {
     "name": "stdout",
     "output_type": "stream",
     "text": [
      "Original array:\n",
      "64 25 12 22 11 \n",
      "Sorted array:\n",
      "11 12 22 25 64 "
     ]
    }
   ],
   "source": [
    "public class SelectionSort {\n",
    "    public static void selectionSort(int[] data) {\n",
    "        for (int scanIndex = 0; scanIndex < data.length; scanIndex++) {\n",
    "            int minIndex = scanIndex;\n",
    "\n",
    "            for (int compIndex = scanIndex + 1; compIndex < data.length; compIndex++) {\n",
    "                if (data[compIndex] < data[minIndex]) {\n",
    "                    minIndex = compIndex;\n",
    "                }\n",
    "            }\n",
    "\n",
    "            if (minIndex != scanIndex) {\n",
    "                int temp = data[scanIndex];\n",
    "                data[scanIndex] = data[minIndex];\n",
    "                data[minIndex] = temp;\n",
    "            }\n",
    "        }\n",
    "    }\n",
    "\n",
    "    public static void main(String[] args) {\n",
    "        int[] data = {64, 25, 12, 22, 11};\n",
    "        System.out.println(\"Original array:\");\n",
    "        for (int value : data) {\n",
    "            System.out.print(value + \" \");\n",
    "        }\n",
    "        System.out.println();\n",
    "\n",
    "        selectionSort(data);\n",
    "\n",
    "        System.out.println(\"Sorted array:\");\n",
    "        for (int value : data) {\n",
    "            System.out.print(value + \" \");\n",
    "        }\n",
    "    }\n",
    "}\n",
    "\n",
    "SelectionSort.main(null);"
   ]
  },
  {
   "cell_type": "markdown",
   "metadata": {},
   "source": [
    "Selection sort divides the list into two parts: the sorted part at the start and the unsorted part at the rest of the list. Initially, the sorted part is empty, and the unsorted part contains all the elements. With each iteration, the algorithm selects the minimum (or maximum, depending on sorting order) element from the unsorted part and moves it to the end of the sorted part. This process is repeated until the unsorted part becomes empty, and the list is sorted.\n",
    "\n",
    "Selection sort has a time complexity of O(n^2), making it inefficient for large lists. The primary advantage of selection sort lies in its simplicity and the fact that it makes the minimum possible number of swaps: only one swap for each element in the list, which could be beneficial in scenarios where writing data is significantly more expensive than reading data. "
   ]
  },
  {
   "cell_type": "markdown",
   "metadata": {},
   "source": [
    "# Collectables"
   ]
  },
  {
   "cell_type": "code",
   "execution_count": 8,
   "metadata": {
    "vscode": {
     "languageId": "java"
    }
   },
   "outputs": [
    {
     "name": "stdout",
     "output_type": "stream",
     "text": [
      "Original list: [{\"name\": \"Emaad\", \"age\": 17}, {\"name\": \"Gumball\", \"age\": 12}, {\"name\": \"Spencer\", \"age\": 30}, {\"name\": \"Troll\", \"age\": 20}]\n",
      "Sorted list: [{\"name\": \"Gumball\", \"age\": 12}, {\"name\": \"Emaad\", \"age\": 17}, {\"name\": \"Troll\", \"age\": 20}, {\"name\": \"Spencer\", \"age\": 30}]\n"
     ]
    }
   ],
   "source": [
    "import java.util.ArrayList;\n",
    "import java.util.Collections;\n",
    "\n",
    "class Node<T extends Comparable<T>> {\n",
    "    T data;\n",
    "    Node<T> next;\n",
    "\n",
    "    Node(T data) {\n",
    "        this.data = data;\n",
    "        this.next = null;\n",
    "    }\n",
    "}\n",
    "\n",
    "class CustomLinkedList<T extends Comparable<T>> {\n",
    "    Node<T> head;\n",
    "\n",
    "    public void add(T data) {\n",
    "        if (head == null) {\n",
    "            head = new Node<>(data);\n",
    "        } else {\n",
    "            Node<T> current = head;\n",
    "            while (current.next != null) {\n",
    "                current = current.next;\n",
    "            }\n",
    "            current.next = new Node<>(data);\n",
    "        }\n",
    "    }\n",
    "\n",
    "    public void sort() {\n",
    "        if (head == null || head.next == null) {\n",
    "            return;\n",
    "        }\n",
    "        \n",
    "        ArrayList<T> list = new ArrayList<>();\n",
    "        Node<T> current = head;\n",
    "        while (current != null) {\n",
    "            list.add(current.data);\n",
    "            current = current.next;\n",
    "        }\n",
    "        \n",
    "        Collections.sort(list);\n",
    "        \n",
    "        current = head;\n",
    "        for (T item : list) {\n",
    "            current.data = item;\n",
    "            current = current.next;\n",
    "        }\n",
    "    }\n",
    "\n",
    "    @Override\n",
    "    public String toString() {\n",
    "        StringBuilder json = new StringBuilder(\"[\");\n",
    "        Node<T> current = head;\n",
    "        while (current != null) {\n",
    "            json.append(current.data.toString());\n",
    "            if (current.next != null) {\n",
    "                json.append(\", \");\n",
    "            }\n",
    "            current = current.next;\n",
    "        }\n",
    "        json.append(\"]\");\n",
    "        return json.toString();\n",
    "    }\n",
    "}\n",
    "\n",
    "class Person implements Comparable<Person> {\n",
    "    String name;\n",
    "    int age;\n",
    "\n",
    "    Person(String name, int age) {\n",
    "        this.name = name;\n",
    "        this.age = age;\n",
    "    }\n",
    "\n",
    "    @Override\n",
    "    public int compareTo(Person other) {\n",
    "        if (this.age == other.age) {\n",
    "            return this.name.compareTo(other.name);\n",
    "        }\n",
    "        return Integer.compare(this.age, other.age);\n",
    "    }\n",
    "\n",
    "    @Override\n",
    "    public String toString() {\n",
    "        return String.format(\"{\\\"name\\\": \\\"%s\\\", \\\"age\\\": %d}\", name, age);\n",
    "    }\n",
    "}\n",
    "\n",
    "// Demonstrate usage\n",
    "public class Main {\n",
    "    public static void main(String[] args) {\n",
    "        CustomLinkedList<Person> people = new CustomLinkedList<>();\n",
    "        people.add(new Person(\"Emaad\", 17));\n",
    "        people.add(new Person(\"Gumball\", 12));\n",
    "        people.add(new Person(\"Spencer\", 30));\n",
    "        people.add(new Person(\"Troll\", 20));\n",
    "        \n",
    "        System.out.println(\"Original list: \" + people);\n",
    "        \n",
    "        people.sort();\n",
    "        \n",
    "        System.out.println(\"Sorted list: \" + people);\n",
    "    }\n",
    "}\n",
    "\n",
    "\n",
    "Main.main(null);\n"
   ]
  },
  {
   "cell_type": "markdown",
   "metadata": {},
   "source": [
    "# My Experience at the Algorythmic Event\n",
    "\n",
    "Today (April 3), my group along with four other groups got to perform each of our sorting algorithms in front of the judges as well as people who happened to be interested in watching us perform. I enjoyed watching every single performance, as I was amazed at all of the groups were able to get creative with showing off their sorting algorithms in their own unique way. For example, the insertion sort algorithm performance was pretty cool in that it used rap lyrics as well as a beach theme in order to convey the mechanisms of insertion sort. Also, the bubble sort performance was funny to me and many others who attended the event since the theme was centered around a dating show and a person wanting to figure out who their best match is. \n",
    "\n",
    "In terms of our own performance, I thought that everyone (including me) did an amazing job. I feel like all of us were punctual whenever we were practicing, whether it was at lunch, during class, or outside of school. Ultimately, all of those practice sessions played of in the end, as we were able to perform on the stage without any issues and earned two 10/10s and 3 9/10s from the judges, which is quite amazing. We ended up in 3rd place for total scores, which we all agreed was a pretty solid ranking. \n",
    "\n",
    "Here are some captures of our practice sessions!\n",
    "\n",
    "![]({{site.baseurl}}/images/IMG_0721.jpg)\n",
    "![]({{site.baseurl}}/images/IMG_0722.jpg)\n",
    "![]({{site.baseurl}}/images/IMG_0724.jpg)\n",
    "\n",
    "\n",
    "Captures from the event \n",
    "\n",
    "![]({{site.baseurl}}/images/dating.png)\n",
    "![]({{site.baseurl}}/images/dating2.png)\n",
    "\n",
    "Dating show ^ (ft. Rachit aka Rachelina)\n",
    "\n",
    "\n"
   ]
  }
 ],
 "metadata": {
  "kernelspec": {
   "display_name": "Java",
   "language": "java",
   "name": "java"
  },
  "language_info": {
   "codemirror_mode": "java",
   "file_extension": ".jshell",
   "mimetype": "text/x-java-source",
   "name": "Java",
   "pygments_lexer": "java",
   "version": "21+35-LTS-2513"
  }
 },
 "nbformat": 4,
 "nbformat_minor": 2
}
