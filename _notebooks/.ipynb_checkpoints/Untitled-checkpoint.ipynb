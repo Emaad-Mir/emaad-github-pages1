{
 "cells": [
  {
   "cell_type": "code",
   "execution_count": null,
   "id": "e5959b49",
   "metadata": {},
   "outputs": [],
   "source": []
  },
  {
   "cell_type": "code",
   "execution_count": 1,
   "id": "090e2f4a",
   "metadata": {},
   "outputs": [
    {
     "name": "stdout",
     "output_type": "stream",
     "text": [
      "Hello World\n"
     ]
    }
   ],
   "source": [
    "System.out.println(\"Hello World\")"
   ]
  },
  {
   "cell_type": "code",
   "execution_count": 2,
   "id": "f4702a8f",
   "metadata": {},
   "outputs": [],
   "source": [
    "public class Main {\n",
    "\n",
    "    public static void main(String[] args) {\n",
    "\n",
    "        for (int i = 1; i <= 1000; i++) {\n",
    "            if(i % 15 == 0){\n",
    "                System.out.println(\"fizzbuzz\");\n",
    "            } else if(i % 3 == 0){\n",
    "                System.out.println(\"fizz\");\n",
    "            } else if(i % 5 == 0){\n",
    "                System.out.println(\"buzz\");\n",
    "            } else\n",
    "                System.out.println(i);\n",
    "        }\n",
    "    }\n",
    "}"
   ]
  },
  {
   "cell_type": "code",
   "execution_count": null,
   "id": "5d551275",
   "metadata": {},
   "outputs": [],
   "source": []
  }
 ],
 "metadata": {
  "kernelspec": {
   "display_name": "Java",
   "language": "java",
   "name": "java"
  },
  "language_info": {
   "codemirror_mode": "java",
   "file_extension": ".jshell",
   "mimetype": "text/x-java-source",
   "name": "Java",
   "pygments_lexer": "java",
   "version": "11.0.20+8-post-Ubuntu-1ubuntu122.04"
  }
 },
 "nbformat": 4,
 "nbformat_minor": 5
}
