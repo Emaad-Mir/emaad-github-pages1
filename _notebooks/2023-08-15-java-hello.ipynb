{
 "cells": [
  {
   "cell_type": "markdown",
   "metadata": {},
   "source": [
    "---\n",
    "# this is YAML front matter\n",
    "layout: post\n",
    "title: Java Hello\n",
    "description: A progressive journey through Java basics starting with the classic \"Hello, World!\" example.\n",
    "courses: { csa: {week: 1} }\n",
    "type: tangibles\n",
    "---"
   ]
  },
  {
   "attachments": {},
   "cell_type": "markdown",
   "metadata": {},
   "source": [
    "## Hello, World!\n",
    "This article shows the basic language structures and constructs of Java (aka anatomy).  In async order, it is critical to understand these examples and learn vocab for OOP and Creating Objects: \n",
    "- [Object Oriented Programming](https://youtu.be/Wok4Xw_5cyY) \n",
    "- [Creating Objects](https://youtu.be/C5Ks_u87Ltg)\n",
    "- [Calling Methods](https://youtu.be/CPE_lYGCw3A)"
   ]
  },
  {
   "attachments": {},
   "cell_type": "markdown",
   "metadata": {},
   "source": [
    "### Static example\n",
    "The class HelloStatic contains the classic \"Hello, World!\" message that is often used as an introduction to a programming language.  The \"public static void main(String[] args)\", or main method, is the default runtime method in Java and has a very specific and ordered definition (signature). \n",
    "\n",
    "The key terms in HelloStatic introduction:\n",
    "- \"class\" is a blueprint for code, it is the code definition and must be called to run\n",
    "- \"method\" or \"static method\" in this case, is the code to be run/executed, similar to a procedure\n",
    "- \"method definition\" or \"signature\" are the keywords \"public static void\" in front of the name \"main\" and the parameters \"String[] args\" after the name.\n",
    "- \"method call\" is the means in which we run the defined code\n"
   ]
  },
  {
   "cell_type": "code",
   "execution_count": 25,
   "metadata": {
    "vscode": {
     "languageId": "java"
    }
   },
   "outputs": [
    {
     "name": "stdout",
     "output_type": "stream",
     "text": [
      "Hello World!\n"
     ]
    }
   ],
   "source": [
    "// Define Static Method within a Class\n",
    "public class HelloStatic {\n",
    "    // Java standard runtime entry point\n",
    "    public static void main(String[] args) {     // procedure that is to be called, the \"method\"\n",
    "        System.out.println(\"Hello World!\");\n",
    "    }\n",
    "}\n",
    "// A method call allows us to execute code that is wrapped in Class\n",
    "HelloStatic.main(null);   // Class prefix allows reference of Static Method"
   ]
  },
  {
   "attachments": {},
   "cell_type": "markdown",
   "metadata": {},
   "source": [
    "### Dynamic Example\n",
    "This example starts to use Java in its natural manner, using an object within the main method. This example is a very basic illustration of Object Oriente Programming (OOP). The main method is now used as a driver/tester, by making an instance of the class.  Thus, it creates an Object using the HelloObject() constructor.  Also, this Class contains a getter method called getHello() which returns the value with the \"String hello\".\n",
    "\n",
    "The key terms in HelloStatic introduction:\n",
    "- \"Object Oriented Programming\" focuses software design around data, or objects.\n",
    "- \"object\" contains both methods and data\n",
    "- \"instance of a class\" is the process of making an object, unique or instances of variables are created within the object\n",
    "- \"constructor\" special method in class, code that is used to initialize the data within the object\n",
    "- \"getter\" is a method that is used to extract or reference data from within the object. "
   ]
  },
  {
   "cell_type": "code",
   "execution_count": 26,
   "metadata": {
    "vscode": {
     "languageId": "java"
    }
   },
   "outputs": [
    {
     "name": "stdout",
     "output_type": "stream",
     "text": [
      "Hello, World!\n"
     ]
    }
   ],
   "source": [
    "// Define Class with Constructor returning Object\n",
    "public class HelloObject {\n",
    "    private String hello;   // instance attribute or variable\n",
    "    public HelloObject() {  // constructor\n",
    "        hello = \"Hello, World!\";\n",
    "    }\n",
    "    public String getHello() {  // getter, returns value from inside the object\n",
    "        return this.hello;  // return String from object\n",
    "    }\n",
    "    public static void main(String[] args) {    \n",
    "        HelloObject ho = new HelloObject(); // Instance of Class (ho) is an Object via \"new HelloObject()\"\n",
    "        System.out.println(ho.getHello()); // Object allows reference to public methods and data\n",
    "    }\n",
    "}\n",
    "// IJava activation\n",
    "HelloObject.main(null);"
   ]
  },
  {
   "attachments": {},
   "cell_type": "markdown",
   "metadata": {},
   "source": [
    "### Dynamic Example with two constructors\n",
    "This last example adds to the basics of the Java anatomy.  The Class now contains two constructors and a setter to go with the getter.  Also, observe the driver/tester now contains two objects that are initialized differently, 0 and 1 argument constructor.  Look at the usage of the \"this\" prefix.  The \"this\" keyword helps in clarification between instance and local variable.\n",
    "\n",
    "The key terms in HelloDynamic introduction:\n",
    "- \"0 argument constructor\" constructor method with no parameter ()\n",
    "- \"1 argument constructor\" construct method with a parameter (String hello)\n",
    "- \"this keyword\" allows you to clear reference something that is part of the object, data or method\n",
    "- \"local variable\" is a variable that is passed to the method in this example, see the 1 argument constructor as it has a local variable \"String hello\"\n",
    "- \"dynamic\" versus \"static\" is something that has option to change, static never changes.  A class (blueprint) and objects (instance of blueprint) are generally intended to be dynamic.  Constructors and Setters are used to dynamically change the content of an object.\n",
    "- \"Java OOP, Java Classes/Objects, Java Class Attributes, Java Class Methods, Java Constructors\" are explained if more complete detail in W3 Schools: https://www.w3schools.com/java/java_oop.asp"
   ]
  },
  {
   "cell_type": "code",
   "execution_count": 27,
   "metadata": {
    "vscode": {
     "languageId": "java"
    }
   },
   "outputs": [
    {
     "name": "stdout",
     "output_type": "stream",
     "text": [
      "Hello, World!\n",
      "Hello, Nighthawk Coding Society!\n"
     ]
    }
   ],
   "source": [
    "\n",
    "\n",
    "// Define Class\n",
    "public class HelloDynamic { // name the first letter of class as capitalized, note camel case\n",
    "    // instance variable have access modifier (private is most common), data type, and name\n",
    "    private String hello;\n",
    "    // constructor signature 1, public and zero arguments, constructors do not have return type\n",
    "    public HelloDynamic() {  // 0 argument constructor\n",
    "        this.setHello(\"Hello, World!\");  // using setter with static string\n",
    "    }\n",
    "    // constructor signature, public and one argument\n",
    "    public HelloDynamic(String hello) { // 1 argument constructor\n",
    "        this.setHello(hello);   // using setter with local variable passed into constructor\n",
    "    }\n",
    "    // setter/mutator, setter have void return type and a parameter\n",
    "    public void setHello(String hello) { // setter\n",
    "        this.hello = hello;     // instance variable on the left, local variable on the right\n",
    "    }\n",
    "    // getter/accessor, getter used to return private instance variable (encapsulated), return type is String\n",
    "    public String getHello() {  // getter\n",
    "        return this.hello;\n",
    "    }\n",
    "    // public static void main(String[] args) is signature for main/drivers/tester method\n",
    "    // a driver/tester method is singular or called a class method, it is never part of an object\n",
    "    public static void main(String[] args) {  \n",
    "        HelloDynamic hd1 = new HelloDynamic(); // no argument constructor\n",
    "        HelloDynamic hd2 = new HelloDynamic(\"Hello, Nighthawk Coding Society!\"); // one argument constructor\n",
    "        System.out.println(hd1.getHello()); // accessing getter\n",
    "        System.out.println(hd2.getHello()); \n",
    "    }\n",
    "}\n",
    "// IJava activation\n",
    "HelloDynamic.main(null);"
   ]
  },
  {
   "cell_type": "markdown",
   "metadata": {},
   "source": [
    "<img src=\"{{site.baseurl}}/images/anatomyofjavaclass.png\"/>"
   ]
  },
  {
   "attachments": {},
   "cell_type": "markdown",
   "metadata": {},
   "source": [
    "## Hacks\n",
    "Build your own Jupyter Notebook meeting these College Board and CTE competencies.  It is critical to understand Static versus Instance Now, this is College Board requirement!!!\n",
    "- Explain Anatomy of a Class in comments of program (Diagram key parts of the class).\n",
    "- Comment in code where there is a definition of a Class and an instance of a Class (ie object)\n",
    "- Comment in code where there are constructors and highlight the signature difference in the signature\n",
    "- Call an object method with parameter (ie setters).\n",
    "\n",
    "\n",
    "Additional requirements (Pick something)\n",
    "1. Go through code progression of understanding Class usage and generating an Instance of a Class (Object). \n",
    "    a. Build a purposeful dynamic Class, using an Object, generate multiple instances: \n",
    "        - Person: Name and Age\n",
    "        - Dessert: Type and Cost\n",
    "        - Location: City, State, Zip\n",
    "    b. Create a static void main tester method to generate objects of the class.\n",
    "    c. In tester method, show how setters/mutators can be used to make the data in the Object dynamically change\n",
    "3. Go through progression of understanding a Static Class.  Build a purposeful static Class, no Objects.\n",
    "    - Calculate common operations on a Date field, age since date, older of two dates, number of seconds since date\n",
    "    - Calculate stats functions on an array of values: mean, median, mode."
   ]
  },
  {
   "cell_type": "markdown",
   "metadata": {},
   "source": [
    "# Java Hello Hacks"
   ]
  },
  {
   "cell_type": "markdown",
   "metadata": {},
   "source": [
    "## Person Dynamic Java Program"
   ]
  },
  {
   "cell_type": "code",
   "execution_count": 28,
   "metadata": {
    "vscode": {
     "languageId": "java"
    }
   },
   "outputs": [
    {
     "name": "stdout",
     "output_type": "stream",
     "text": [
      "Name: Emaad Mir\n",
      "Age: 16\n",
      "Favorite Color: Blue\n",
      "Car: Tesla Model X\n",
      "School: Del Norte High School\n"
     ]
    }
   ],
   "source": [
    "public class Person {\n",
    "    String name;\n",
    "    int age;\n",
    "    String favColor;\n",
    "    String car;\n",
    "    String school;\n",
    "\n",
    "    public Person(String personName, int personAge, String personFavColor, String personCar, String personSchool){\n",
    "        name = personName;\n",
    "        age = personAge;\n",
    "        favColor = personFavColor;\n",
    "        car = personCar;\n",
    "        school = personSchool;\n",
    "\n",
    "    }\n",
    "\n",
    "    public static void main(String [] args){\n",
    "        Person me = new Person(\"Emaad Mir\", 16, \"Blue\", \"Tesla Model X\", \"Del Norte High School\");\n",
    "        System.out.println(\"Name: \" + me.name + \"\\nAge: \" + me.age + \"\\nFavorite Color: \" + me.favColor + \"\\nCar: \" + me.car + \"\\nSchool: \" + me.school);\n",
    "        System.out.flush();\n",
    "\n",
    "    }\n",
    "\n",
    "}\n",
    "Person.main(null);"
   ]
  },
  {
   "cell_type": "markdown",
   "metadata": {},
   "source": [
    "## Location Dynamic Java Program"
   ]
  },
  {
   "cell_type": "code",
   "execution_count": 29,
   "metadata": {
    "vscode": {
     "languageId": "java"
    }
   },
   "outputs": [
    {
     "name": "stdout",
     "output_type": "stream",
     "text": [
      "LOCATION\n",
      "\n",
      "Country: United States of America\n",
      "\n",
      "State: Idaho\n",
      "\n",
      "City: Meridian\n",
      "\n",
      "Zip Code: 83642\n"
     ]
    }
   ],
   "source": [
    "public class Location {\n",
    "    String country;\n",
    "    String state;\n",
    "    String city;\n",
    "    int zipCode;\n",
    "\n",
    "    public Location(String country, String state, String city, int zipCode){\n",
    "        this.country = country;\n",
    "        this.state = state;\n",
    "        this.city = city;\n",
    "        this.zipCode = zipCode;\n",
    "    }\n",
    "\n",
    "    public void setCountry(String country) {\n",
    "        this.country = country;\n",
    "    }\n",
    "    \n",
    "    public void setState(String state) {\n",
    "        this.state = state;\n",
    "    }\n",
    "    \n",
    "    public void setCity(String city) {\n",
    "        this.city = city;\n",
    "    }\n",
    "\n",
    "    public void setZipCode(int zipCode) {\n",
    "        this.zipCode = zipCode;\n",
    "    }\n",
    "    \n",
    "    public String getCountry() {\n",
    "        return country;\n",
    "    }\n",
    "    \n",
    "    public String getState() {\n",
    "        return state;\n",
    "    }\n",
    "    \n",
    "    public String getCity() {\n",
    "        return city;\n",
    "    }\n",
    "\n",
    "    public int getZipCode() {\n",
    "        return zipCode;\n",
    "    }\n",
    "    \n",
    "    public static void main(String [] args){\n",
    "        Location fuckthis = new Location(\"United States of America\", \"Idaho\", \"Meridian\", 83642);\n",
    "        System.out.println(\"LOCATION\\n\");\n",
    "        System.out.println(\"Country: \" + fuckthis.getCountry());\n",
    "        System.out.println(\"\\nState: \" + fuckthis.getState());\n",
    "        System.out.println(\"\\nCity: \" + fuckthis.getCity());\n",
    "        System.out.println(\"\\nZip Code: \" + fuckthis.getZipCode());\n",
    "    }\n",
    "    }\n",
    "\n",
    "Location.main(null)"
   ]
  },
  {
   "cell_type": "markdown",
   "metadata": {},
   "source": [
    "## Java Calculator Program"
   ]
  },
  {
   "cell_type": "code",
   "execution_count": 33,
   "metadata": {
    "vscode": {
     "languageId": "java"
    }
   },
   "outputs": [
    {
     "name": "stdout",
     "output_type": "stream",
     "text": [
      "Welcome to the data set calculator! Here you can input a set of data and find out all sorts of information about it!\n",
      "Enter a data point: Would you like to keep entering points? (y/n) Enter a data point: Would you like to keep entering points? (y/n) Enter a data point: Would you like to keep entering points? (y/n) Unsorted List: [28.0, 239.0, 37112.0]\n",
      "Sorted List: [28.0, 239.0, 37112.0]\n",
      "The mean of your data set is 12459.666666666666\n",
      "The median of your data set is 239.0\n",
      "The mode of your data set is 28.0\n"
     ]
    }
   ],
   "source": [
    "import java.util.ArrayList;\n",
    "import java.util.HashMap;\n",
    "import java.util.Scanner;\n",
    "\n",
    "public class DataSetCalculator {\n",
    "\n",
    "    public static void main(String[] args) {\n",
    "        ArrayList<Double> data_set = getData();\n",
    "        System.out.println(\"Unsorted List: \" + data_set);\n",
    "        ArrayList<Double> sorted_data_set = sort(data_set);\n",
    "        System.out.println(\"Sorted List: \" + sorted_data_set);\n",
    "        System.out.println(\"The mean of your data set is \" + mean(data_set));\n",
    "        System.out.println(\"The median of your data set is \" + median(data_set));\n",
    "        System.out.println(\"The mode of your data set is \" + mode(data_set));\n",
    "    }\n",
    "\n",
    "    public static ArrayList<Double> getData() {\n",
    "        ArrayList<Double> data_set = new ArrayList<>();\n",
    "        System.out.println(\"Welcome to the data set calculator! Here you can input a set of data and find out all sorts of information about it!\");\n",
    "\n",
    "        boolean complete = false;\n",
    "        Scanner scanner = new Scanner(System.in);\n",
    "\n",
    "        while (!complete) {\n",
    "            try {\n",
    "                System.out.print(\"Enter a data point: \");\n",
    "                double data = Double.parseDouble(scanner.nextLine());\n",
    "                data_set.add(data);\n",
    "            } catch (NumberFormatException e) {\n",
    "                System.out.println(\"Invalid input. Please input a number.\");\n",
    "            }\n",
    "\n",
    "            System.out.print(\"Would you like to keep entering points? (y/n) \");\n",
    "            String answer = scanner.nextLine();\n",
    "            if (answer.equalsIgnoreCase(\"n\")) {\n",
    "                complete = true;\n",
    "            }\n",
    "        }\n",
    "\n",
    "        return data_set;\n",
    "    }\n",
    "\n",
    "    public static double mean(ArrayList<Double> data_set) {\n",
    "        double sum = 0;\n",
    "        for (double num : data_set) {\n",
    "            sum += num;\n",
    "        }\n",
    "        return sum / data_set.size();\n",
    "    }\n",
    "\n",
    "    public static double median(ArrayList<Double> data_set) {\n",
    "        int length = data_set.size();\n",
    "        int middleIndex = length / 2;\n",
    "\n",
    "        if (length % 2 == 1) {\n",
    "            return data_set.get(middleIndex);\n",
    "        } else {\n",
    "            double middleValue1 = data_set.get(middleIndex - 1);\n",
    "            double middleValue2 = data_set.get(middleIndex);\n",
    "            return (middleValue1 + middleValue2) / 2;\n",
    "        }\n",
    "    }\n",
    "\n",
    "    public static double mode(ArrayList<Double> data_set) {\n",
    "        HashMap<Double, Integer> occurrences = new HashMap<>();\n",
    "        double mode = 0;\n",
    "        int most_times = 0;\n",
    "\n",
    "        for (double num : data_set) {\n",
    "            occurrences.put(num, occurrences.getOrDefault(num, 0) + 1);\n",
    "            int count = occurrences.get(num);\n",
    "            if (count > most_times) {\n",
    "                most_times = count;\n",
    "                mode = num;\n",
    "            }\n",
    "        }\n",
    "\n",
    "        return mode;\n",
    "    }\n",
    "\n",
    "    public static ArrayList<Double> sort(ArrayList<Double> data_set) {\n",
    "        int length = data_set.size();\n",
    "\n",
    "        for (int i = 0; i < length; i++) {\n",
    "            for (int j = 0; j < length - i - 1; j++) {\n",
    "                if (data_set.get(j) > data_set.get(j + 1)) {\n",
    "                    double temp = data_set.get(j);\n",
    "                    data_set.set(j, data_set.get(j + 1));\n",
    "                    data_set.set(j + 1, temp);\n",
    "                }\n",
    "            }\n",
    "        }\n",
    "\n",
    "        return data_set;\n",
    "    }\n",
    "}\n",
    "\n",
    "DataSetCalculator.main(null)"
   ]
  },
  {
   "cell_type": "markdown",
   "metadata": {},
   "source": [
    "# More Java Programs (For Fun!)"
   ]
  },
  {
   "cell_type": "code",
   "execution_count": 34,
   "metadata": {
    "vscode": {
     "languageId": "java"
    }
   },
   "outputs": [
    {
     "name": "stdout",
     "output_type": "stream",
     "text": [
      "This program will prompt you to enter two years and will provide you with the leap years between those two years as well as the actual number of leap years. \n",
      "Enter the first year: Enter the second year: 1832 is a leap year between 1829 and 2012\n",
      "1836 is a leap year between 1829 and 2012\n",
      "1840 is a leap year between 1829 and 2012\n",
      "1844 is a leap year between 1829 and 2012\n",
      "1848 is a leap year between 1829 and 2012\n",
      "1852 is a leap year between 1829 and 2012\n",
      "1856 is a leap year between 1829 and 2012\n",
      "1860 is a leap year between 1829 and 2012\n",
      "1864 is a leap year between 1829 and 2012\n",
      "1868 is a leap year between 1829 and 2012\n",
      "1872 is a leap year between 1829 and 2012\n",
      "1876 is a leap year between 1829 and 2012\n",
      "1880 is a leap year between 1829 and 2012\n",
      "1884 is a leap year between 1829 and 2012\n",
      "1888 is a leap year between 1829 and 2012\n",
      "1892 is a leap year between 1829 and 2012\n",
      "1896 is a leap year between 1829 and 2012\n",
      "1904 is a leap year between 1829 and 2012\n",
      "1908 is a leap year between 1829 and 2012\n",
      "1912 is a leap year between 1829 and 2012\n",
      "1916 is a leap year between 1829 and 2012\n",
      "1920 is a leap year between 1829 and 2012\n",
      "1924 is a leap year between 1829 and 2012\n",
      "1928 is a leap year between 1829 and 2012\n",
      "1932 is a leap year between 1829 and 2012\n",
      "1936 is a leap year between 1829 and 2012\n",
      "1940 is a leap year between 1829 and 2012\n",
      "1944 is a leap year between 1829 and 2012\n",
      "1948 is a leap year between 1829 and 2012\n",
      "1952 is a leap year between 1829 and 2012\n",
      "1956 is a leap year between 1829 and 2012\n",
      "1960 is a leap year between 1829 and 2012\n",
      "1964 is a leap year between 1829 and 2012\n",
      "1968 is a leap year between 1829 and 2012\n",
      "1972 is a leap year between 1829 and 2012\n",
      "1976 is a leap year between 1829 and 2012\n",
      "1980 is a leap year between 1829 and 2012\n",
      "1984 is a leap year between 1829 and 2012\n",
      "1988 is a leap year between 1829 and 2012\n",
      "1992 is a leap year between 1829 and 2012\n",
      "1996 is a leap year between 1829 and 2012\n",
      "2000 is a leap year between 1829 and 2012\n",
      "2004 is a leap year between 1829 and 2012\n",
      "2008 is a leap year between 1829 and 2012\n",
      "Between the years 1829 and 2012, there are 44 leap years"
     ]
    }
   ],
   "source": [
    "import java.util.Scanner;\n",
    "public class Main {\n",
    "\n",
    "    static int numLeapYears(int year1, int year2){\n",
    "        int leapYears = 0;\n",
    "        for(int i = year1; i<year2; i++){\n",
    "            if((i % 4 == 0) && (i % 100 != 0) || (i % 4 == 0) && (i % 100 == 0) && (i % 400 == 0 )){\n",
    "                    System.out.format(\"%d is a leap year between %d and %d\\n\",i,year1,year2);\n",
    "                    leapYears++;\n",
    "\n",
    "            }\n",
    "        }\n",
    "        return leapYears;\n",
    "\n",
    "\n",
    "\n",
    "    }\n",
    "\n",
    "\n",
    "    public static void main(String[] args) {\n",
    "\n",
    "        System.out.println(\"This program will prompt you to enter two years and will provide you with the leap years between those two years as well as the actual number of leap years. \");\n",
    "\n",
    "        Scanner sc = new Scanner(System.in);\n",
    "\n",
    "        System.out.print(\"Enter the first year: \");\n",
    "\n",
    "        int year1 = sc.nextInt();\n",
    "\n",
    "        Scanner sc1 = new Scanner(System.in);\n",
    "\n",
    "        System.out.print(\"Enter the second year: \");\n",
    "\n",
    "        int year2 = sc1.nextInt();\n",
    "\n",
    "        System.out.format(\"Between the years %d and %d, there are %d leap years\",year1,year2,numLeapYears(year1,year2));\n",
    "        \n",
    "    }\n",
    "}\n",
    "\n",
    "Main.main(null);"
   ]
  },
  {
   "cell_type": "code",
   "execution_count": 36,
   "metadata": {
    "vscode": {
     "languageId": "java"
    }
   },
   "outputs": [
    {
     "name": "stdout",
     "output_type": "stream",
     "text": [
      "Enter a principal loan amount:\n",
      " Enter your annual interest rate (as a percent):\n",
      " Enter a period (in years):\n",
      " Calculated Monthly Mortgage: $5.395197\n"
     ]
    }
   ],
   "source": [
    "import java.util.Scanner;\n",
    "\n",
    "public class Main {\n",
    "    public static void main(String[] args) {\n",
    "\n",
    "        int numMonths = 12;\n",
    "        int percent = 100;\n",
    "\n",
    "        Scanner sc = new Scanner(System.in);\n",
    "\n",
    "        System.out.print(\"Enter a principal loan amount:\\n \");\n",
    "\n",
    "        int principal = sc.nextInt();\n",
    "\n",
    "\n",
    "\n",
    "        Scanner sc1 = new Scanner(System.in);\n",
    "\n",
    "        System.out.print(\"Enter your annual interest rate (as a percent):\\n \");\n",
    "\n",
    "        float annualInterestRate = sc1.nextFloat();\n",
    "\n",
    "        float monthlyInterestRate = annualInterestRate / percent / numMonths ;\n",
    "\n",
    "        Scanner sc2 = new Scanner(System.in);\n",
    "\n",
    "        System.out.print(\"Enter a period (in years):\\n \");\n",
    "\n",
    "        int period = sc2.nextInt();\n",
    "\n",
    "        int numPayments = period * numMonths;\n",
    "\n",
    "        float mortgage = (float) ((principal * monthlyInterestRate * Math.pow(1+monthlyInterestRate, numPayments)) / (Math.pow(1+monthlyInterestRate,numPayments)-1));\n",
    "\n",
    "        System.out.println(\"Calculated Monthly Mortgage: $\"+mortgage);\n",
    "\n",
    "        }\n",
    "    }\n",
    "\n",
    "    Main.main(null);"
   ]
  }
 ],
 "metadata": {
  "kernelspec": {
   "display_name": "Java",
   "language": "java",
   "name": "java"
  },
  "language_info": {
   "codemirror_mode": "java",
   "file_extension": ".jshell",
   "mimetype": "text/x-java-source",
   "name": "Java",
   "pygments_lexer": "java",
   "version": "11.0.20+8-post-Ubuntu-1ubuntu122.04"
  },
  "orig_nbformat": 4
 },
 "nbformat": 4,
 "nbformat_minor": 2
}
