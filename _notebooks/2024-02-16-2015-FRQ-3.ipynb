{
 "cells": [
  {
   "cell_type": "markdown",
   "metadata": {},
   "source": [
    "---\n",
    "toc: true\n",
    "comments: true\n",
    "layout: post\n",
    "title: 2015 FRQ 3\n",
    "description: Response to FRQ 3 from the 2015 AP CSA Exam\n",
    "courses: { csp: {week: 24} }\n",
    "type: hacks\n",
    "---"
   ]
  },
  {
   "cell_type": "markdown",
   "metadata": {},
   "source": [
    "# Quick Note\n",
    "\n",
    "For each part of this FRQ and the other three FRQs, I included two versions of the solution: one with no runtime (i.e. CollegeBoard's key) and one with runtime."
   ]
  },
  {
   "cell_type": "markdown",
   "metadata": {},
   "source": [
    "# Question 3: Arrays/Arraylists (and somewhat 2D Arrays)\n",
    "\n",
    "Directions: SHOW ALL YOUR WORK. REMEMBER THAT PROGRAM SEGMENTS ARE TO BE WRITTEN IN JAVA.\n",
    "\n",
    "Notes:\n",
    " \n",
    "- Assume that the classes listed in the Java Quick Reference have been imported where appropriate.\n",
    "\n",
    "- Unless otherwise noted in the question, assume that parameters in method calls are not null and that methods are called only when their preconditions are satisfied.\n",
    "\n",
    "- In writing solutions for each question, you may use any of the accessible methods that are listed in classes defined in that question. Writing significant amounts of code that can be replaced by a call to one of these methods will not receive full credit.\n",
    "\n",
    " \n",
    "\n",
    "A two-dimensional array of integers in which most elements are zero is called a sparse array. Because most elements have a value of zero, memory can be saved by storing only the non-zero values along with their row and column indexes. The following complete SparseArrayEntry class is used to represent non-zero elements in a sparse array. A SparseArrayEntry object cannot be modified after it has been constructed.\n",
    "\n",
    "\n",
    "\n",
    "The SparseArray class represents a sparse array. It contains a list of SparseArrayEntry objects, each of which represents one of the non-zero elements in the array. The entries representing the non-zero elements are stored in the list in no particular order. Each non-zero element is represented by exactly one entry in the list.\n",
    "\n",
    "\n",
    "The following table shows an example of a two-dimensional sparse array. Empty cells in the table indicate zero values.\n",
    "\n",
    "![]({{site.baseurl}}/images/question3example.png)\n",
    "\n",
    "\n",
    "The sample array can be represented by a SparseArray object, sparse, with the following instance variable values. The items in entries are in no particular order; one possible ordering is shown below.\n",
    "\n",
    "![]({{site.baseurl}}/images/question3example2.png)\n",
    "\n",
    "\n"
   ]
  },
  {
   "cell_type": "markdown",
   "metadata": {},
   "source": [
    "## Question 3a\n",
    "\n",
    "(a) Write the SparseArray method getValueAt. The method returns the value of the sparse array element at a given row and column in the sparse array. If the list entries contains an entry with the specified row and column, the value associated with the entry is returned. If there is no entry in entries corresponding to the specified row and column, 0 is returned.\n",
    "In the example above, the call sparse.getValueAt(3, 1) would return -9, and sparse.getValueAt(3, 3) would return 0.\n",
    "\n",
    "Complete method getValueAt below."
   ]
  },
  {
   "cell_type": "markdown",
   "metadata": {},
   "source": [
    "### No Runtime"
   ]
  },
  {
   "cell_type": "code",
   "execution_count": null,
   "metadata": {},
   "outputs": [],
   "source": [
    "public class SparseArrayEntry {\n",
    "    private int row;\n",
    "    private int col;\n",
    "    private int value;\n",
    "\n",
    "    public SparseArrayEntry(int r, int c, int v) {\n",
    "        row = r;\n",
    "        col = c;\n",
    "        value = v;\n",
    "    }\n",
    "\n",
    "    public int getRow() {\n",
    "        return row;\n",
    "    }\n",
    "\n",
    "    public int getCol() {\n",
    "        return col;\n",
    "    }\n",
    "\n",
    "    public int getValue() {\n",
    "        return value;\n",
    "    }\n",
    "}"
   ]
  },
  {
   "cell_type": "code",
   "execution_count": null,
   "metadata": {},
   "outputs": [],
   "source": [
    "public class SparseArray {\n",
    "\n",
    "    public int getValueAt(int row, int col){\n",
    "        for(SparseArrayEntry  s : entries){\n",
    "            if(s.getRow() == row && s.getCol() == col)\n",
    "                return s.getValue();\n",
    "        }\n",
    "    }\n",
    "    \n",
    "}"
   ]
  },
  {
   "cell_type": "markdown",
   "metadata": {},
   "source": [
    "### With Runtime"
   ]
  },
  {
   "cell_type": "code",
   "execution_count": 13,
   "metadata": {},
   "outputs": [
    {
     "name": "stdout",
     "output_type": "stream",
     "text": [
      "Value at (3, 1): -9\n",
      "Value at (3, 3): 0\n"
     ]
    }
   ],
   "source": [
    "import java.util.ArrayList;\n",
    "import java.util.List;\n",
    "\n",
    "\n",
    "public class SparseArray {\n",
    "    private int numRows;\n",
    "    private int numCols;\n",
    "    private List<SparseArrayEntry> entries;\n",
    "\n",
    "    public SparseArray() {\n",
    "        entries = new ArrayList<SparseArrayEntry>();\n",
    "        // Example initialization; this will vary depending on your actual use case.\n",
    "        entries.add(new SparseArrayEntry(1, 4, 4));\n",
    "        entries.add(new SparseArrayEntry(2, 0, 1));\n",
    "        entries.add(new SparseArrayEntry(3, 1, -9));\n",
    "        entries.add(new SparseArrayEntry(1, 1, 5));\n",
    "        numRows = 6;\n",
    "        numCols = 5;\n",
    "    }\n",
    "\n",
    "    public int getNumRows() {\n",
    "        return numRows;\n",
    "    }\n",
    "\n",
    "    public int getNumCols() {\n",
    "        return numCols;\n",
    "    }\n",
    "\n",
    "    public int getValueAt(int row, int col) {\n",
    "        for (SparseArrayEntry entry : entries) {\n",
    "            if (entry.getRow() == row && entry.getCol() == col)\n",
    "                return entry.getValue();\n",
    "        }\n",
    "        return 0; // Return 0 if no entry is found\n",
    "    }\n",
    "\n",
    "    // test cases\n",
    "    public static void main(String[] args) {\n",
    "        SparseArray sparse = new SparseArray();\n",
    "        System.out.println(\"Value at (3, 1): \" + sparse.getValueAt(3, 1)); // Should return -9 since (3,1) is an actual entry\n",
    "        System.out.println(\"Value at (3, 3): \" + sparse.getValueAt(3, 3)); // Should return 0 since (3,3) is not an entry\n",
    "    }\n",
    "    \n",
    "}\n",
    "    \n",
    "\n",
    "\n",
    "SparseArray.main(null);"
   ]
  },
  {
   "cell_type": "markdown",
   "metadata": {},
   "source": [
    "## Question 3b\n",
    "\n",
    "(b) Write the SparseArray method removeColumn. After removing a specified column from a sparsearray:\n",
    "\n",
    "All entries in the list entries with column indexes matching col are removed from the list.\n",
    "\n",
    "All entries in the list entries with column indexes greater than col are replaced by entries with column indexes that are decremented by one (moved one column to the left).\n",
    "\n",
    "The number of columns in the sparse array is adjusted to reflect the column removed.\n",
    "\n",
    "The sample object sparse from the beginning of the question is repeated for your convenience.\n",
    "\n",
    "![]({{site.baseurl}}/images/question3example3.png)\n",
    "\n",
    "Complete method removeColumn below."
   ]
  },
  {
   "cell_type": "markdown",
   "metadata": {},
   "source": [
    "### No Runtime"
   ]
  },
  {
   "cell_type": "code",
   "execution_count": null,
   "metadata": {},
   "outputs": [],
   "source": [
    "public class SparseArray1 {\n",
    "\n",
    "    public void removeColumn(int col){\n",
    "        for(int i = entries.size() - 1; i >= 0; i--){\n",
    "            SparseArrayEntry s = entries.get(i);\n",
    "            if(s.getCol() == col){\n",
    "                entries.remove(i);\n",
    "            } else if(s.getCol() > col){\n",
    "                entries.set(i, new SparseArrayEntry(s.getRow(),s.getCol() - 1, s.getValue()));\n",
    "\n",
    "            }\n",
    "        }\n",
    "        numCols--;\n",
    "    }\n",
    "    \n",
    "}\n"
   ]
  },
  {
   "cell_type": "markdown",
   "metadata": {},
   "source": [
    "### With Runtime"
   ]
  },
  {
   "cell_type": "code",
   "execution_count": 20,
   "metadata": {},
   "outputs": [
    {
     "name": "stdout",
     "output_type": "stream",
     "text": [
      "Original SparseArray:\n",
      "0 0 0 0 0 \n",
      "0 5 0 0 4 \n",
      "1 0 0 0 0 \n",
      "0 -9 0 0 0 \n",
      "0 0 0 0 0 \n",
      "0 0 0 0 0 \n",
      "SparseArray after removing column 1:\n",
      "0 0 0 0 \n",
      "0 0 0 4 \n",
      "1 0 0 0 \n",
      "0 0 0 0 \n",
      "0 0 0 0 \n",
      "0 0 0 0 \n"
     ]
    }
   ],
   "source": [
    "public class SparseArray1 {\n",
    "    private int numRows;\n",
    "    private int numCols;\n",
    "    private List<SparseArrayEntry> entries;\n",
    "\n",
    "    public SparseArray1() { // Corrected constructor name\n",
    "        entries = new ArrayList<SparseArrayEntry>();\n",
    "        entries.add(new SparseArrayEntry(1, 4, 4));\n",
    "        entries.add(new SparseArrayEntry(2, 0, 1));\n",
    "        entries.add(new SparseArrayEntry(3, 1, -9));\n",
    "        entries.add(new SparseArrayEntry(1, 1, 5));\n",
    "        numRows = 6;\n",
    "        numCols = 5;\n",
    "    }\n",
    "\n",
    "    public int getNumRows() {\n",
    "        return numRows;\n",
    "    }\n",
    "\n",
    "    public int getNumCols() {\n",
    "        return numCols;\n",
    "    }\n",
    "\n",
    "    public int getValueAt(int row, int col) {\n",
    "        for (SparseArrayEntry entry : entries) {\n",
    "            if (entry.getRow() == row && entry.getCol() == col)\n",
    "                return entry.getValue();\n",
    "        }\n",
    "        return 0; // If no entry is found\n",
    "    }\n",
    "\n",
    "    public void removeColumn(int col) {\n",
    "        for (int i = entries.size() - 1; i >= 0; i--) {\n",
    "            SparseArrayEntry entry = entries.get(i);\n",
    "            if (entry.getCol() == col) {\n",
    "                entries.remove(i);\n",
    "            } else if (entry.getCol() > col) {\n",
    "                entries.set(i, new SparseArrayEntry(entry.getRow(), entry.getCol() - 1, entry.getValue()));\n",
    "            }\n",
    "        }\n",
    "        numCols--; // decrement number of columns by 1\n",
    "    }\n",
    "\n",
    "    // displays the sparse array\n",
    "    public void display() {\n",
    "        for (int i = 0; i < numRows; i++) {\n",
    "            for (int j = 0; j < numCols; j++) {\n",
    "                System.out.print(getValueAt(i, j) + \" \");\n",
    "            }\n",
    "            System.out.println();\n",
    "        }\n",
    "    }\n",
    "\n",
    "    public static void main(String[] args) {\n",
    "        SparseArray1 sparse = new SparseArray1();\n",
    "        System.out.println(\"Original SparseArray:\");\n",
    "        sparse.display();\n",
    "\n",
    "        sparse.removeColumn(1);\n",
    "        System.out.println(\"SparseArray after removing column 1:\");\n",
    "        sparse.display();\n",
    "    }\n",
    "\n",
    "}\n",
    "\n",
    "SparseArray1.main(null);\n"
   ]
  },
  {
   "cell_type": "markdown",
   "metadata": {},
   "source": [
    "# Reflection for FRQ 3"
   ]
  },
  {
   "cell_type": "markdown",
   "metadata": {},
   "source": [
    "This question was by far the most challenging for me to do out of the four, as while I was able to complete it, it took me some time before I began to understand what exactly Sparse arrays were. I found myself having to reread the question a few times in order to comprehend what it was asking me to do. If this happened to me on the actual AP Exam, I would end up losing some valuable time that could have been spent either trying to note down what information the question is giving me or even just complete another FRQ that I know how to answer better. Having completed the question, I definitely have a much better understanding of it now than I did before I saw this. Part A essentially asked to create a method that returned the value of an entry at a specific row and column. If there was an entry for that row and column, then the program would successfully display that value. If there was no entry for that row and column, then the program would just return 0 indicating that there is no entry there. This question centered a lot on 2D arrays, making it that kind of FRQ, although in the runtime version of my response, there were also a few elements of ArrayLists that I had to use as well. Overall, I now know that 2D arrays is something that I will need to heavily review to ensure that I don't get frozen on a question like this on the real AP Test should I get one as involved as this. "
   ]
  }
 ],
 "metadata": {
  "kernelspec": {
   "display_name": "Java",
   "language": "java",
   "name": "java"
  },
  "language_info": {
   "codemirror_mode": "java",
   "file_extension": ".jshell",
   "mimetype": "text/x-java-source",
   "name": "java",
   "pygments_lexer": "java",
   "version": "21+35-LTS-2513"
  }
 },
 "nbformat": 4,
 "nbformat_minor": 2
}
