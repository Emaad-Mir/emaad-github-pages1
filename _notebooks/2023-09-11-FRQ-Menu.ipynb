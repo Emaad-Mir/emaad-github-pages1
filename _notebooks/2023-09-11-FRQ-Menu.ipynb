{
 "cells": [
  {
   "cell_type": "markdown",
   "metadata": {},
   "source": [
    "---\n",
    "title: FRQ Menu\n",
    "description: Here is some of my work on JFrames and the Java Class Menu!\n",
    "layout: default\n",
    "courses: { csa: {week: 4} }\n",
    "type: tangibles\n",
    "week: 4\n",
    "---"
   ]
  },
  {
   "cell_type": "markdown",
   "metadata": {},
   "source": [
    "# Java Menu Class Documentation "
   ]
  },
  {
   "cell_type": "markdown",
   "metadata": {},
   "source": [
    "## Where the Class is Being Defined\n",
    "\n",
    "While defining a class is pretty much self-explanatory, here is where it is defined in the menu:\n",
    "\n",
    "\n",
    "```\n",
    "public class Menu {\n",
    "    \n",
    "    // code here\n",
    "\n",
    "}\n",
    "   \n",
    "```\n",
    "\n",
    "as well as\n",
    "\n",
    "\n",
    "```\n",
    "public class MenuJFrame extends JFrame implements ActionListener {\n",
    "    \n",
    "    // code here\n",
    "\n",
    "}\n",
    "   \n",
    "```\n",
    "\n"
   ]
  },
  {
   "cell_type": "markdown",
   "metadata": {},
   "source": [
    "## Where the Instance of the Class is being Defined\n",
    "\n",
    "```\n",
    "frame = new JFrame(title);\n",
    "\n",
    "```\n",
    "\n",
    "as well as\n",
    "\n",
    "\n",
    "```\n",
    "new MenuJFrame(\"Menu\");\n",
    "\n",
    "```\n"
   ]
  },
  {
   "cell_type": "markdown",
   "metadata": {},
   "source": [
    "## Where the Object is Calling a Method\n",
    "\n",
    "```\n",
    "frame.setVisible(true);\n",
    "\n",
    "```\n",
    "\n",
    "and\n",
    "\n",
    "```\n",
    "m.addActionListener(this);\n",
    "\n",
    "```"
   ]
  },
  {
   "cell_type": "markdown",
   "metadata": {},
   "source": [
    "## Where the Object is Mutating Data\n",
    "\n",
    "```\n",
    "MenuJFrame.hashes +=  \"<font color=\" + COLORS[random] + \">\" + hash + \"</font>\";\n",
    "\n",
    "```\n",
    "\n",
    "\n",
    "and\n",
    "\n",
    "\n",
    "```\n",
    "message.setText(msg);\n",
    "\n",
    "```\n"
   ]
  },
  {
   "cell_type": "markdown",
   "metadata": {},
   "source": [
    "## Console vs. GUI\n",
    "\n",
    "The console and GUI are similar in that both of them allow the user to interact with the code in some way (no duh). With the console, the user can input whatever they want into the terminal/prompt and view the output of their input. Similarly, in the GUI, the user can click on buttons and see how clicking a different button each time changes the output of the program.\n",
    "\n",
    "The console and GUI are also very different in many ways. For example, as mentioned earlier, the GUI menu allows users to click on buttons and is overall more user-interactive. In contrast, the console menu does not allow the user to do this, rather the user has to type in their input in order to get their desired output. Furthermore, the code for the GUI menu uses GUI elements (no duh) such as JFrame, JMenuBar, JMenu, and JLabel, while the console menu mainly uses a lot of print statements and switch and case statements. "
   ]
  }
 ],
 "metadata": {
  "language_info": {
   "name": "python"
  },
  "orig_nbformat": 4
 },
 "nbformat": 4,
 "nbformat_minor": 2
}
