{
 "cells": [
  {
   "cell_type": "code",
   "execution_count": 11,
   "id": "794a148a",
   "metadata": {
    "vscode": {
     "languageId": "java"
    }
   },
   "outputs": [
    {
     "name": "stdout",
     "output_type": "stream",
     "text": [
      "Hello World\n"
     ]
    }
   ],
   "source": [
    "System.out.println(\"Hello World\")"
   ]
  },
  {
   "cell_type": "code",
   "execution_count": 12,
   "id": "8a71adee",
   "metadata": {
    "vscode": {
     "languageId": "java"
    }
   },
   "outputs": [
    {
     "name": "stdout",
     "output_type": "stream",
     "text": [
      "I love CSA!\n"
     ]
    }
   ],
   "source": [
    "System.out.println(\"I love CSA!\")"
   ]
  },
  {
   "cell_type": "code",
   "execution_count": 13,
   "id": "a9aac7bc",
   "metadata": {
    "vscode": {
     "languageId": "java"
    }
   },
   "outputs": [
    {
     "name": "stdout",
     "output_type": "stream",
     "text": [
      "This is my first Java Jupyter Notebook!\n"
     ]
    }
   ],
   "source": [
    "System.out.println(\"This is my first Java Jupyter Notebook!\")"
   ]
  },
  {
   "cell_type": "code",
   "execution_count": null,
   "id": "862d949f",
   "metadata": {
    "vscode": {
     "languageId": "java"
    }
   },
   "outputs": [],
   "source": []
  }
 ],
 "metadata": {
  "kernelspec": {
   "display_name": "Java",
   "language": "java",
   "name": "java"
  },
  "language_info": {
   "codemirror_mode": "java",
   "file_extension": ".jshell",
   "mimetype": "text/x-java-source",
   "name": "Java",
   "pygments_lexer": "java",
   "version": "11.0.20+8-post-Ubuntu-1ubuntu122.04"
  }
 },
 "nbformat": 4,
 "nbformat_minor": 5
}
