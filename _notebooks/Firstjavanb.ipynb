{
 "cells": [
  {
   "cell_type": "code",
   "execution_count": 3,
   "id": "794a148a",
   "metadata": {},
   "outputs": [
    {
     "name": "stdout",
     "output_type": "stream",
     "text": [
      "Hello World\n"
     ]
    }
   ],
   "source": [
    "System.out.println(\"Hello World\");"
   ]
  },
  {
   "cell_type": "code",
   "execution_count": 7,
   "id": "8a71adee",
   "metadata": {},
   "outputs": [
    {
     "name": "stdout",
     "output_type": "stream",
     "text": [
      "I love CSA!\n",
      "I love CSA!\n",
      "I love CSA!\n"
     ]
    }
   ],
   "source": [
    "for(int i = 0; i < 3; i++){\n",
    "    System.out.println(\"I love CSA!\");\n",
    "}\n"
   ]
  },
  {
   "cell_type": "code",
   "execution_count": 1,
   "id": "a9aac7bc",
   "metadata": {},
   "outputs": [
    {
     "name": "stdout",
     "output_type": "stream",
     "text": [
      "This is my first Java Jupyter Notebook!\n"
     ]
    }
   ],
   "source": [
    "\n",
    "System.out.println(\"This is my first Java Jupyter Notebook!\");"
   ]
  },
  {
   "cell_type": "code",
   "execution_count": 4,
   "id": "862d949f",
   "metadata": {},
   "outputs": [],
   "source": []
  },
  {
   "cell_type": "code",
   "execution_count": null,
   "id": "29a7986e",
   "metadata": {},
   "outputs": [],
   "source": []
  }
 ],
 "metadata": {
  "kernelspec": {
   "display_name": "Java",
   "language": "java",
   "name": "java"
  },
  "language_info": {
   "codemirror_mode": "java",
   "file_extension": ".jshell",
   "mimetype": "text/x-java-source",
   "name": "java",
   "pygments_lexer": "java",
   "version": "11.0.20+8-post-Ubuntu-1ubuntu122.04"
  }
 },
 "nbformat": 4,
 "nbformat_minor": 5
}
