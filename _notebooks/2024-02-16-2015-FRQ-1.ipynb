{
 "cells": [
  {
   "cell_type": "markdown",
   "metadata": {},
   "source": [
    "---\n",
    "toc: true\n",
    "comments: true\n",
    "layout: notebook\n",
    "title: 2015 FRQ 1 \n",
    "description: Response to FRQ 1 from the 2015 AP CSA Exam\n",
    "courses: { csp: {week: 24} }\n",
    "type: hacks\n",
    "---"
   ]
  },
  {
   "cell_type": "markdown",
   "metadata": {},
   "source": [
    "# Quick Note\n",
    "\n",
    "For each parts of this FRQ and the other three FRQs, I included two versions of the solution: one with no runtime (i.e. CollegeBoard's key) and one with runtime."
   ]
  },
  {
   "cell_type": "markdown",
   "metadata": {},
   "source": [
    "# Question 1: Arrays/ArrayLists"
   ]
  },
  {
   "cell_type": "markdown",
   "metadata": {},
   "source": [
    "Directions: SHOW ALL YOUR WORK. REMEMBER THAT PROGRAM SEGMENTS ARE TO BE WRITTEN IN JAVA.\n",
    "\n",
    "Notes:\n",
    "\n",
    "- Assume that the classes listed in the Java Quick Reference have been imported where appropriate.\n",
    "\n",
    "- Unless otherwise noted in the question, assume that parameters in method calls are not null and that methods are called only when their preconditions are satisfied.\n",
    "\n",
    "- In writing solutions for each question, you may use any of the accessible methods that are listed in classes defined in that question. Writing significant amounts of code that can be replaced by a call to one of these methods will not receive full credit.\n",
    "\n",
    "This question involves reasoning about one-dimensional and two-dimensional arrays of integers. You will write three static methods, all of which are in a single enclosing class, named DiverseArray (not shown). The first method returns the sum of the values of a one-dimensional array; the second method returns an array that represents the sums of the rows of a two-dimensional array; and the third method analyzes row sums."
   ]
  },
  {
   "cell_type": "markdown",
   "metadata": {},
   "source": [
    "## Question 1a"
   ]
  },
  {
   "cell_type": "markdown",
   "metadata": {},
   "source": [
    "(a) Write a static method arraySum that calculates and returns the sum of the entries in a specified one-dimensional array. The following example shows an array arr1 and the value returned by a call to arraySum.\n",
    "\n",
    "![]({{site.baseurl}}/images/arr1example.png)\n",
    "\n",
    "\n",
    "Complete method arraySum below."
   ]
  },
  {
   "cell_type": "markdown",
   "metadata": {},
   "source": [
    "### No Runtime"
   ]
  },
  {
   "cell_type": "code",
   "execution_count": null,
   "metadata": {
    "vscode": {
     "languageId": "java"
    }
   },
   "outputs": [],
   "source": [
    "public class DiverseArray {\n",
    "    public static int arraySum(int [] arr){\n",
    "\n",
    "        int sum = 0;\n",
    "        for(int current_value arr){\n",
    "            sum == current_value;\n",
    "\n",
    "        return sum;\n",
    "        }   \n",
    "    }\n",
    "}"
   ]
  },
  {
   "cell_type": "markdown",
   "metadata": {},
   "source": [
    "### With Runtime"
   ]
  },
  {
   "cell_type": "code",
   "execution_count": 2,
   "metadata": {
    "vscode": {
     "languageId": "java"
    }
   },
   "outputs": [
    {
     "name": "stdout",
     "output_type": "stream",
     "text": [
      "Sum of array: 16\n"
     ]
    }
   ],
   "source": [
    "public class DiverseArray {\n",
    "    public static int arraySum(int[] arr) {\n",
    "        int sum = 0;\n",
    "        for (int currentValue : arr) {\n",
    "            sum += currentValue;\n",
    "        }\n",
    "        return sum;\n",
    "    }\n",
    "\n",
    "    public static void main(String[] args) { // calls the arraySum function\n",
    "        // Test for arraySum\n",
    "        int[] arr1 = {1, 3, 2, 7, 3}; // given this array, sum should be 1+3+2+7+3=16\n",
    "        System.out.println(\"Sum of array: \" + arraySum(arr1));\n",
    "    }\n",
    "}\n",
    "\n",
    "DiverseArray.main(null); "
   ]
  },
  {
   "cell_type": "markdown",
   "metadata": {},
   "source": [
    "## Question 1b"
   ]
  },
  {
   "cell_type": "markdown",
   "metadata": {},
   "source": [
    "(b) Write a static method rowSums that calculates the sums of each of the rows in a given two-dimensional array and returns these sums in a one-dimensional array. The method has one parameter, a two-dimensional array arr2D of int values. The array is in row-major order: arr2D [ r ] [ c ] is the entry at row r and column c. The method returns a one-dimensional array with one entry for each row of arr2D such that each entry is the sum of the corresponding row in arr2D. As a reminder, each row of a two-dimensional array is a one-dimensional array.\n",
    "\n",
    "For example, if mat1 is the array represented by the following table, the call rowSums(mat1) returns the array {16, 32, 28, 20}.\n",
    "\n",
    "![]({{site.baseurl}}/images/mat1example.png)\n",
    "\n",
    "Assume that arraySum works as specified, regardless of what you wrote in part (a). You must use arraySum appropriately to receive full credit.\n",
    "\n",
    "Complete method rowSums below.\n"
   ]
  },
  {
   "cell_type": "markdown",
   "metadata": {},
   "source": [
    "### No Runtime"
   ]
  },
  {
   "cell_type": "code",
   "execution_count": null,
   "metadata": {
    "vscode": {
     "languageId": "java"
    }
   },
   "outputs": [],
   "source": [
    "public class DiverseArray {\n",
    "    public static int[] rowSums (int [][] arr2D){\n",
    "\n",
    "        int[] result = new int[arr2D.length];\n",
    "\n",
    "        for(int k = 0; k < arr2D.length; k++){\n",
    "            result[k] = arraySum(arr2D[k]);\n",
    "        }\n",
    "\n",
    "        return result;\n",
    "        \n",
    "    }\n",
    "}"
   ]
  },
  {
   "cell_type": "markdown",
   "metadata": {},
   "source": [
    "### With Runtime"
   ]
  },
  {
   "cell_type": "code",
   "execution_count": 9,
   "metadata": {
    "vscode": {
     "languageId": "java"
    }
   },
   "outputs": [
    {
     "name": "stdout",
     "output_type": "stream",
     "text": [
      "Sums of rows in mat1: 16 32 28 20 \n"
     ]
    }
   ],
   "source": [
    "public class DiverseArray1 {\n",
    "\n",
    "    public static int arraySum(int[] arr) {\n",
    "        int sum = 0;\n",
    "        for (int currentValue : arr) {\n",
    "            sum += currentValue;\n",
    "        }\n",
    "        return sum;\n",
    "    }\n",
    "    \n",
    "    public static int[] rowSums(int[][] arr2D) {\n",
    "        int[] result = new int[arr2D.length];\n",
    "        for (int k = 0; k < arr2D.length; k++) {\n",
    "            result[k] = arraySum(arr2D[k]); // Utilizing arraySum method here\n",
    "        }\n",
    "        return result;\n",
    "    }\n",
    "\n",
    "    public static void main(String[] args) {\n",
    "       \n",
    "        int[][] mat1 = {\n",
    "            {1, 3, 2, 7,3},\n",
    "            {10, 10, 4, 6, 2},\n",
    "            {5, 3, 5, 9, 6},\n",
    "            {7, 6, 4, 2, 1}\n",
    "        };\n",
    "\n",
    "        int[] sums = rowSums(mat1);\n",
    "        System.out.print(\"Sums of rows in mat1: \");\n",
    "        for (int sum : sums) {\n",
    "            System.out.print(sum + \" \");\n",
    "        }\n",
    "        System.out.println();\n",
    "}\n",
    "}\n",
    "\n",
    "DiverseArray1.main(null);"
   ]
  },
  {
   "cell_type": "markdown",
   "metadata": {},
   "source": [
    "## Question 1c"
   ]
  },
  {
   "cell_type": "markdown",
   "metadata": {},
   "source": [
    "(c) A two-dimensional array is diverse if no two of its rows have entries that sum to the same value. In the following examples, the array mat1 is diverse because each row sum is different, but the array mat2 is not diverse because the first and last rows have the same sum.\n",
    "\n",
    "![]({{site.baseurl}}/images/diverseeexample.png)\n",
    "\n",
    "\n",
    "Write a static method isDiverse that determines whether or not a given two-dimensional array is diverse. The method has one parameter: a two-dimensional array arr2D of int values. The method should return true if all the row sums in the given array are unique; otherwise, it should return false. In the arrays shown above, the call isDiverse (mat1) returns true and the call isDiverse(mat2) returns false.\n",
    "\n",
    "Assume that arraySum and rowSums work as specified, regardless of what you wrote in parts (a) and(b). You must use rowSums appropriately to receive full credit.\n",
    "Complete method isDiverse below."
   ]
  },
  {
   "cell_type": "markdown",
   "metadata": {},
   "source": [
    "### No Runtime"
   ]
  },
  {
   "cell_type": "code",
   "execution_count": null,
   "metadata": {
    "vscode": {
     "languageId": "java"
    }
   },
   "outputs": [],
   "source": [
    "public class DiverseArray {\n",
    "    public static boolean isDiverse(int [] [] arr2D){\n",
    "\n",
    "        int[] row_sums_array = rowSums(arr2D);\n",
    "\n",
    "        for(int i = 0; i < row_sums_array.length; i++){\n",
    "            for(int j = i+1; j < row_sums_array.length; j++){\n",
    "                if(row_sums_array[i] == row_sums_array[j])\n",
    "                    return false;\n",
    "            }\n",
    "        }\n",
    "        \n",
    "        return true;\n",
    "    }\n",
    "}"
   ]
  },
  {
   "cell_type": "markdown",
   "metadata": {},
   "source": [
    "### With Runtime"
   ]
  },
  {
   "cell_type": "code",
   "execution_count": 15,
   "metadata": {
    "vscode": {
     "languageId": "java"
    }
   },
   "outputs": [
    {
     "name": "stdout",
     "output_type": "stream",
     "text": [
      "Is mat1 diverse? true\n",
      "Is mat2 diverse? false\n"
     ]
    }
   ],
   "source": [
    "public class DiverseArray2 {\n",
    "    // calculates sum of the entries in a one-dimensional array (see 1a)\n",
    "    public static int arraySum(int[] arr) {\n",
    "        int sum = 0;\n",
    "        for (int currentValue : arr) {\n",
    "            sum += currentValue;\n",
    "        }\n",
    "        return sum;\n",
    "    }\n",
    "\n",
    "    // calculates sum of each of the rows in a given two-dimensional array (see 1b)\n",
    "    public static int[] rowSums(int[][] arr2D) {\n",
    "        int[] result = new int[arr2D.length];\n",
    "        for (int k = 0; k < arr2D.length; k++) {\n",
    "            result[k] = arraySum(arr2D[k]);\n",
    "        }\n",
    "        return result;\n",
    "    }\n",
    "\n",
    "    // determines whether a given two-dimensional array is diverse\n",
    "    public static boolean isDiverse(int[][] arr2D) {\n",
    "        int[] rowSumsArray = rowSums(arr2D);\n",
    "        for (int i = 0; i < rowSumsArray.length; i++) {\n",
    "            for (int j = i + 1; j < rowSumsArray.length; j++) {\n",
    "                if (rowSumsArray[i] == rowSumsArray[j])\n",
    "                    return false;\n",
    "            }\n",
    "        }\n",
    "        return true;\n",
    "    }\n",
    "\n",
    "    public static void main(String[] args) {\n",
    "        int[][] mat1 = {\n",
    "            {1, 3, 2, 7,3},\n",
    "            {10, 10, 4, 6, 2},\n",
    "            {5, 3, 5, 9, 6},\n",
    "            {7, 6, 4, 2, 1}\n",
    "        };\n",
    "\n",
    "        int[][] mat2 = {\n",
    "            {1, 1, 5, 3, 4},\n",
    "            {12, 7, 6, 1, 9},\n",
    "            {8, 11, 10, 2, 5},\n",
    "            {3, 2, 3, 0, 6}\n",
    "        };\n",
    "\n",
    "        System.out.println(\"Is mat1 diverse? \" + isDiverse(mat1)); // should return true, as sums are 16, 32, 28, and 20, all of which are unique sums\n",
    "        System.out.println(\"Is mat2 diverse? \" + isDiverse(mat2)); // should return false, as sums are 14, 35, 36, 14, and there are two sums that are 14\n",
    "    }\n",
    "}\n",
    "\n",
    "// Run the main method\n",
    "DiverseArray2.main(null);"
   ]
  },
  {
   "cell_type": "markdown",
   "metadata": {},
   "source": [
    "# Reflection for FRQ 1\n",
    "\n",
    "Looking through all three parts of question 1, this was definitely an Array/ArrayLists type question, as all three parts required iterating through both one and two dimensional arrays as well as finding their sums. I generally find questions like these to be the easiest type (and I also enjoy working with arrays and arraylists the most), so I didn't have a very difficult time answering these questions. Comparing my solution (no runtime) to Collegeboard's key, I essentially did the same thing that they did with the exception of naming a few variables differently. While I do not find questions like these very difficult, it is important that I continue to review these, as we are now less than 3 months away from the exam. As we finish up trimester 2 and head into trimester 3, I will make sure to do more FRQs like these in my own time rather than solely study for the exam whenever Mr. Mortensen gives us some to do in class, as that will expand my knowledge beyond to just FRQs for a specific year. "
   ]
  }
 ],
 "metadata": {
  "kernelspec": {
   "display_name": "Java",
   "language": "java",
   "name": "java"
  },
  "language_info": {
   "codemirror_mode": "java",
   "file_extension": ".jshell",
   "mimetype": "text/x-java-source",
   "name": "Java",
   "pygments_lexer": "java",
   "version": "21+35-LTS-2513"
  }
 },
 "nbformat": 4,
 "nbformat_minor": 2
}
