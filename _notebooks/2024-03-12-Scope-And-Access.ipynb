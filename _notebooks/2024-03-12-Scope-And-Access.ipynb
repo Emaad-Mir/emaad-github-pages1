{
 "cells": [
  {
   "cell_type": "markdown",
   "metadata": {},
   "source": [
    "---\n",
    "toc: true\n",
    "comments: true\n",
    "layout: post\n",
    "title: Scope and Access of a Class\n",
    "description: Lesson for scope and access of a class\n",
    "type: tangibles\n",
    "courses: { csa: {week: 28} }\n",
    "---"
   ]
  },
  {
   "cell_type": "markdown",
   "metadata": {},
   "source": [
    "# 5.8 Scope and Access\n",
    "\n",
    "- Local variables: variables declared in body of constructors and methods, only use within constructor or method, can’t be declared public or private\n",
    "- If local variable named same as instance variable, within that method the local variable will be referred to instead of the instance variable\n",
    "- Formal parameters and variables declared in a method or constructor can only be used within that method or constructor"
   ]
  },
  {
   "cell_type": "code",
   "execution_count": null,
   "metadata": {
    "vscode": {
     "languageId": "java"
    }
   },
   "outputs": [],
   "source": [
    "public class Bowler{\n",
    "    private int totalPins;\n",
    "    private int games;\n",
    "   \n",
    "    public Bowler(int pins){\n",
    "        totalPins = pins; // this keyword\n",
    "        games = 3;\n",
    "    }\n",
    "\n",
    "    public void update (int game1, int game2, int game3) {\n",
    "        // local variable here is newPins\n",
    "        int newPins = game1 + game2 + game3;\n",
    "        totalPins += newPins;\n",
    "        games += 3;\n",
    "    }\n",
    "}"
   ]
  },
  {
   "cell_type": "markdown",
   "metadata": {},
   "source": [
    "# Questions"
   ]
  },
  {
   "cell_type": "code",
   "execution_count": null,
   "metadata": {
    "vscode": {
     "languageId": "java"
    }
   },
   "outputs": [],
   "source": [
    "public class Car {\n",
    "    public String color;\n",
    "    private int speed;\n",
    "\n",
    "    public Car(String color, int speed) {\n",
    "    }\n",
    "\n",
    "    public void drive(boolean fourWheel) {\n",
    "    }\n",
    "}\n",
    "\n",
    "public class BuyCar {\n",
    "    public static void main(String[]args) {\n",
    "        Car carObject = new Car(\"blue\", 70);\n",
    "        String carColor = carObject.color;\n",
    "    }\n",
    "}\n"
   ]
  },
  {
   "cell_type": "markdown",
   "metadata": {},
   "source": [
    "For the above code segment, please write in the comments if each variable is accessible in each specified method. If the variable can be accessed in a method/class, write that. If it can't be accessed, explain why. "
   ]
  },
  {
   "cell_type": "markdown",
   "metadata": {},
   "source": [
    "## FRQ\n",
    "\n",
    "In this FRQ, you are to create the Counter Java class that encapsulates the behavior of a counter. This counter can increase, decrease, and provide its current count. "
   ]
  },
  {
   "cell_type": "code",
   "execution_count": null,
   "metadata": {
    "vscode": {
     "languageId": "java"
    }
   },
   "outputs": [],
   "source": [
    "public class SimpleCounter {\n",
    "\n",
    "    private int count; // to store current count\n",
    "\n",
    "    public SimpleCounter() {\n",
    "        // Initialize count to 0\n",
    "        this.count = 0;\n",
    "    }\n",
    "\n",
    "    public void increment() {\n",
    "        // implementation to increment the count by 1\n",
    "    }\n",
    "\n",
    "    public void decrement() {\n",
    "        // implementation to decrement the count but ensure it doesn't go below 0\n",
    "    }\n",
    "\n",
    "    public int getCount() {\n",
    "        // Returns the current count\n",
    "        return 0; // Placeholder return value, adjust accordingly\n",
    "    }\n",
    "}"
   ]
  },
  {
   "cell_type": "markdown",
   "metadata": {},
   "source": [
    "Feel free to add any additional methods that you deem necessary (it may even get you extra points). You can also get extra points by explaining the scope and access of variables, whether they are the ones provided or ones that you make on your own. "
   ]
  }
 ],
 "metadata": {
  "language_info": {
   "name": "python"
  }
 },
 "nbformat": 4,
 "nbformat_minor": 2
}
